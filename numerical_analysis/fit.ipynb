{
 "cells": [
  {
   "cell_type": "code",
   "execution_count": 1,
   "metadata": {},
   "outputs": [
    {
     "name": "stdout",
     "output_type": "stream",
     "text": [
      "[26.04581105  4.85431235 10.33868093 -0.29137529]\n"
     ]
    },
    {
     "data": {
      "image/png": "[encoded data removed]",
      "text/plain": [
       "<Figure size 432x288 with 1 Axes>"
      ]
     },
     "metadata": {
      "needs_background": "light"
     },
     "output_type": "display_data"
    }
   ],
   "source": [
    "import numpy as np\n",
    "import matplotlib.pyplot as plt\n",
    "from numpy.polynomial.legendre import Legendre\n",
    "\n",
    "# 定义数据点\n",
    "x = np.array([-5, -4, -3, -2, -1, 1, 2, 3, 4, 5])\n",
    "y = np.array([31, 28 ,24, 21, 20, 22, 25, 30, 36, 40])\n",
    "\n",
    "# 将x标准化到[-1, 1]范围内，以便使用勒让德多项式\n",
    "x_normalized = 2 * (x - np.min(x)) / (np.max(x) - np.min(x)) - 1\n",
    "\n",
    "# 使用勒让德多项式进行拟合，设定多项式阶数为3\n",
    "coefficients = np.polynomial.legendre.legfit(x_normalized, y, 3)\n",
    "\n",
    "print(coefficients)\n",
    "# 构建勒让德多项式\n",
    "legendre_poly = Legendre(coefficients)\n",
    "\n",
    "# 绘制原始点和拟合曲线\n",
    "xx = np.linspace(-1, 1, 100)\n",
    "yy = legendre_poly(xx)\n",
    "\n",
    "# 将标准化后的xx转换回原始范围\n",
    "xx_original = (xx + 1) * (np.max(x) - np.min(x)) / 2 + np.min(x)\n",
    "\n",
    "plt.figure()\n",
    "plt.plot(x, y, 'ro', label='Original Points', markerfacecolor='r')\n",
    "plt.plot(xx_original, yy, 'b-', label='Fitted Curve', linewidth=2)\n",
    "plt.xlabel('x')\n",
    "plt.ylabel('y')\n",
    "plt.title('Least Squares Fit with Legendre Polynomials')\n",
    "plt.legend()\n",
    "plt.show()\n"
   ]
  },
  {
   "cell_type": "code",
   "execution_count": 2,
   "metadata": {},
   "outputs": [
    {
     "data": {
      "text/plain": [
       "6.052752148863874"
      ]
     },
     "execution_count": 2,
     "metadata": {},
     "output_type": "execute_result"
    }
   ],
   "source": [
    "# 重新计算各个内积\n",
    "y_y = np.sum(y**2)\n",
    "y_phi_0 = np.sum(y)\n",
    "y_phi_1 = np.sum(y * x)\n",
    "y_phi_2 = np.sum(y * (x**2 - 11))\n",
    "y_phi_3 = np.sum(y * (x**3 - (89/5) * x))\n",
    "\n",
    "# 手动计算之前的系数\n",
    "a_0_star = 277 / 10\n",
    "a_1_star = 21 / 22\n",
    "a_2_star = 464 / 748\n",
    "a_3_star = 45 / 181984\n",
    "\n",
    "# 计算误差\n",
    "delta_squared = y_y - (a_0_star * y_phi_0 + a_1_star * y_phi_1 + a_2_star * y_phi_2 + a_3_star * y_phi_3)\n",
    "delta_squared\n"
   ]
  },
  {
   "cell_type": "code",
   "execution_count": null,
   "metadata": {},
   "outputs": [],
   "source": []
  }
 ],
 "metadata": {
  "kernelspec": {
   "display_name": "Python 3",
   "language": "python",
   "name": "python3"
  },
  "language_info": {
   "codemirror_mode": {
    "name": "ipython",
    "version": 3
   },
   "file_extension": ".py",
   "mimetype": "text/x-python",
   "name": "python",
   "nbconvert_exporter": "python",
   "pygments_lexer": "ipython3",
   "version": "3.10.5"
  }
 },
 "nbformat": 4,
 "nbformat_minor": 2
}
