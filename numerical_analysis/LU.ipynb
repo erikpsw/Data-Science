{
 "cells": [
  {
   "cell_type": "code",
   "execution_count": 2,
   "metadata": {},
   "outputs": [
    {
     "name": "stdout",
     "output_type": "stream",
     "text": [
      "L= [[ 1.          0.          0.          0.        ]\n",
      " [ 0.66666667  1.          0.          0.        ]\n",
      " [ 0.33333333 -1.          1.          0.        ]\n",
      " [ 1.33333333 -1.          0.14285714  1.        ]]\n",
      "U= [[ 3.          2.         -1.          4.        ]\n",
      " [ 0.          1.66666667  2.66666667 -3.66666667]\n",
      " [ 0.          0.          7.         -3.        ]\n",
      " [ 0.          0.          0.         -5.57142857]]\n",
      "Z= [10.          0.33333333  9.         -8.28571429]\n",
      "Exact solution: x= [1.72820513 0.39487179 1.92307692 1.48717949]\n"
     ]
    }
   ],
   "source": [
    "#LU分解求Ax=b\n",
    "#过程：A=LU,LZ=b,Ux=Z\n",
    " \n",
    "import numpy as np\n",
    "import pandas as pd\n",
    "from scipy import linalg\n",
    " \n",
    "np.random.seed(2)\n",
    "def LU_decomposition(A,b):\n",
    "    n=len(A[0])\n",
    "    L = np.zeros([n,n])\n",
    "    U = np.zeros([n, n])\n",
    "    for i in range(n):\n",
    "        L[i][i]=1\n",
    "        if i==0:\n",
    "            U[0][0] = A[0][0]\n",
    "            for j in range(1,n):\n",
    "                U[0][j]=A[0][j]\n",
    "                L[j][0]=A[j][0]/U[0][0]\n",
    "        else:\n",
    "                for j in range(i, n):#U\n",
    "                    temp=0\n",
    "                    for k in range(0, i):\n",
    "                        temp = temp+L[i][k] * U[k][j]\n",
    "                    U[i][j]=A[i][j]-temp\n",
    "                for j in range(i+1, n):#L\n",
    "                    temp = 0\n",
    "                    for k in range(0, i ):\n",
    "                        temp = temp + L[j][k] * U[k][i]\n",
    "                    L[j][i] = (A[j][i] - temp)/U[i][i]\n",
    "    \n",
    "    Z=linalg.solve(L, b)\n",
    "    x=linalg.solve(U, Z)\n",
    "    \n",
    "    print(\"L=\",L)\n",
    "    print(\"U=\",U)\n",
    "    print(\"Z=\",Z)\n",
    "    print(\"Exact solution: x=\",x)\n",
    "    \n",
    "    return\n",
    " \n",
    "#定义A,b的值\n",
    "A = np.array([\n",
    "    [3, 2, -1, 4],\n",
    "    [2, 3, 2, -1],\n",
    "    [1, -1, 4, 2],\n",
    "    [4, 1, -3, 3]\n",
    "])\n",
    "b = np.array([10, 7, 12, 6])\n",
    " \n",
    "LU_decomposition(A,b)"
   ]
  },
  {
   "cell_type": "code",
   "execution_count": 3,
   "metadata": {},
   "outputs": [
    {
     "name": "stdout",
     "output_type": "stream",
     "text": [
      "Iteration 1: [1.66666667 0.88888889 2.30555556 1.78703704]\n",
      "Iteration 2: [1.12654321 0.6409465  1.9850823  2.26937586]\n",
      "Iteration 3: [0.54189529 1.40514022 2.0811233  2.89021618]\n",
      "Iteration 4: [-0.76334062  2.41821693  2.3502813   4.56199648]\n",
      "Iteration 5: [-3.57804616  4.67250873  2.78164048  7.99486578]\n",
      "Iteration 6: [-9.51428003  9.48671496  3.75281586 15.27628425]\n",
      "Iteration 7: [-22.10858369  19.66260664   5.80465546  30.72856483]\n",
      "Iteration 8: [-48.81160571  41.24748844  10.15049112  63.48346925]\n",
      "Iteration 9: [-105.42612093   87.01157629   19.36768968  132.93199215]\n",
      "Iteration 10: [-225.46114383  184.03963349   38.90919825  280.1775122 ]\n"
     ]
    },
    {
     "data": {
      "text/plain": [
       "array([-225.46114383,  184.03963349,   38.90919825,  280.1775122 ])"
      ]
     },
     "execution_count": 3,
     "metadata": {},
     "output_type": "execute_result"
    }
   ],
   "source": [
    "import numpy as np\n",
    "\n",
    "# 初始化B向量\n",
    "B = np.array([10, 7, 12, 6], dtype=float)\n",
    "\n",
    "# 初始向量\n",
    "x = np.ones_like(B)\n",
    "\n",
    "# 设置迭代次数\n",
    "iterations = 10\n",
    "\n",
    "# 高斯-赛德尔迭代法\n",
    "for _ in range(iterations):\n",
    "    x_new = np.copy(x)\n",
    "    x_new[0] = (1/3) * (B[0] - 2 * x[1] + x[2] - 4 * x[3])\n",
    "    x_new[1] = (1/3) * (B[1] - 2 * x_new[0] - 2 * x[2] + x[3])\n",
    "    x_new[2] = (1/4) * (B[2] - x_new[0] + x_new[1] - 2 * x[3])\n",
    "    x_new[3] = (1/3) * (B[3] - 4 * x_new[0] - x_new[1] + 3 * x_new[2])\n",
    "    x = x_new\n",
    "    print(f\"Iteration {_+1}: {x}\")\n",
    "\n",
    "# 打印最终结果\n",
    "solution = x\n",
    "solution\n"
   ]
  },
  {
   "cell_type": "code",
   "execution_count": 4,
   "metadata": {},
   "outputs": [
    {
     "name": "stdout",
     "output_type": "stream",
     "text": [
      "Eigenvalues of B: [ 1.45455098+0.j        -1.34973528+0.j        -0.05240785+0.6966975j\n",
      " -0.05240785-0.6966975j]\n",
      "Spectral radius of B: 1.4545509773794105\n",
      "The Gauss-Seidel method does not converge.\n"
     ]
    }
   ],
   "source": [
    "import numpy as np\n",
    "\n",
    "# 构造矩阵B\n",
    "B = np.array([[0, -2/3, 1/3, -4/3],\n",
    "              [-2/3, 0, -2/3, 1/3],\n",
    "              [-1/4, 1/4, 0, -1/2],\n",
    "              [-4/3, -1/3, 3/4, 0]])\n",
    "\n",
    "# 计算特征值\n",
    "eigenvalues = np.linalg.eigvals(B)\n",
    "\n",
    "# 计算谱半径\n",
    "spectral_radius = max(abs(eigenvalues))\n",
    "\n",
    "# 打印结果\n",
    "print(\"Eigenvalues of B:\", eigenvalues)\n",
    "print(\"Spectral radius of B:\", spectral_radius)\n",
    "\n",
    "# 判断收敛性\n",
    "if spectral_radius < 1:\n",
    "    print(\"The Gauss-Seidel method converges.\")\n",
    "else:\n",
    "    print(\"The Gauss-Seidel method does not converge.\")\n"
   ]
  }
 ],
 "metadata": {
  "kernelspec": {
   "display_name": "Python 3",
   "language": "python",
   "name": "python3"
  },
  "language_info": {
   "codemirror_mode": {
    "name": "ipython",
    "version": 3
   },
   "file_extension": ".py",
   "mimetype": "text/x-python",
   "name": "python",
   "nbconvert_exporter": "python",
   "pygments_lexer": "ipython3",
   "version": "3.10.5"
  }
 },
 "nbformat": 4,
 "nbformat_minor": 2
}
