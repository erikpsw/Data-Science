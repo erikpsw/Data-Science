{
 "cells": [
  {
   "cell_type": "markdown",
   "metadata": {},
   "source": [
    "$$\\left(\\begin{array}{l}p_1^{(n+1)}\\\\p_2^{(n+1)}\\end{array}\\right )=\\left(\\begin{array}{l}p_{11}& p_{21}\\\\p_{12}& p_{22}\\end{array}\\right )\\left(\\begin{array}{l}p_1^{(n)}\\\\p_2^{(n)}\\end{array}\\right )$$"
   ]
  },
  {
   "cell_type": "code",
   "execution_count": 1,
   "metadata": {},
   "outputs": [],
   "source": [
    "import numpy as np\n",
    "import pandas as pd\n",
    "\n",
    "P0=np.array([1,0])#初始概率分布\n",
    "P1=np.array([0,1])\n",
    "T1=np.array([[0.95,0.05],[0.9,0.1]])\n",
    "T2=np.array([[0.95,0.05],[0.6,0.4]])\n",
    "Q1=np.array([10,-9])#收益\n",
    "Q2=np.array([10,-6])"
   ]
  },
  {
   "cell_type": "code",
   "execution_count": 2,
   "metadata": {},
   "outputs": [
    {
     "data": {
      "text/plain": [
       "0     10.000000\n",
       "1      9.050000\n",
       "2      9.002500\n",
       "3      9.000125\n",
       "4      9.000006\n",
       "5      9.000000\n",
       "6      9.000000\n",
       "7      9.000000\n",
       "8      9.000000\n",
       "9      9.000000\n",
       "10     9.000000\n",
       "dtype: float64"
      ]
     },
     "execution_count": 2,
     "metadata": {},
     "output_type": "execute_result"
    }
   ],
   "source": [
    "def dotx(a,n):\n",
    "    if n==0:\n",
    "        return 1\n",
    "    else:\n",
    "        for i in range(1,n+1):\n",
    "            if i == 1:\n",
    "                b = a\n",
    "            else :\n",
    "                b = np.dot(a,b)\n",
    "        return b    \n",
    "\n",
    "def dotn(*para):\n",
    "    ans=para[0]\n",
    "    for i in range(1,len(para)):\n",
    "        ans=np.dot(para[i],ans)\n",
    "    return ans\n",
    "\n",
    "def generate(Q0,T,n,P0):\n",
    "    T1=dotx(T,n)\n",
    "    return dotn(T1,P0,Q0)\n",
    "\n",
    "ans1=[generate(Q1,T1,i,P0) for i in range(11)]\n",
    "pd.Series(ans1)\n"
   ]
  },
  {
   "cell_type": "code",
   "execution_count": 3,
   "metadata": {},
   "outputs": [
    {
     "data": {
      "text/plain": [
       "0     10.000000\n",
       "1      9.200000\n",
       "2      8.920000\n",
       "3      8.822000\n",
       "4      8.787700\n",
       "5      8.775695\n",
       "6      8.771493\n",
       "7      8.770023\n",
       "8      8.769508\n",
       "9      8.769328\n",
       "10     8.769265\n",
       "dtype: float64"
      ]
     },
     "execution_count": 3,
     "metadata": {},
     "output_type": "execute_result"
    }
   ],
   "source": [
    "ans2=[generate(Q2,T2,i,P0) for i in range(11)]\n",
    "pd.Series(ans2)"
   ]
  },
  {
   "cell_type": "code",
   "execution_count": 4,
   "metadata": {},
   "outputs": [
    {
     "data": {
      "text/plain": [
       "0      10.000000\n",
       "1      19.050000\n",
       "2      28.052500\n",
       "3      37.052625\n",
       "4      46.052631\n",
       "5      55.052632\n",
       "6      64.052632\n",
       "7      73.052632\n",
       "8      82.052632\n",
       "9      91.052632\n",
       "10    100.052632\n",
       "dtype: float64"
      ]
     },
     "execution_count": 4,
     "metadata": {},
     "output_type": "execute_result"
    }
   ],
   "source": [
    "pd.Series([generate(Q1,T1,i,P0) for i in range(11)]).cumsum()"
   ]
  },
  {
   "cell_type": "markdown",
   "metadata": {},
   "source": [
    "$$w=w\\text{P},w为平稳分布$$"
   ]
  },
  {
   "cell_type": "markdown",
   "metadata": {},
   "source": [
    "$$设w=(w_1,w_2,\\cdots),\\sum_{i=1}^nw_i=1$$"
   ]
  }
 ],
 "metadata": {
  "kernelspec": {
   "display_name": "Python 3",
   "language": "python",
   "name": "python3"
  },
  "language_info": {
   "codemirror_mode": {
    "name": "ipython",
    "version": 3
   },
   "file_extension": ".py",
   "mimetype": "text/x-python",
   "name": "python",
   "nbconvert_exporter": "python",
   "pygments_lexer": "ipython3",
   "version": "3.10.5 (tags/v3.10.5:f377153, Jun  6 2022, 16:14:13) [MSC v.1929 64 bit (AMD64)]"
  },
  "orig_nbformat": 4,
  "vscode": {
   "interpreter": {
    "hash": "09f4728b05d69e74b0ea9aff0073f9d58b230df2a643ed862911c4fa3d476aa5"
   }
  }
 },
 "nbformat": 4,
 "nbformat_minor": 2
}
