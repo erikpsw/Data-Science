{
 "cells": [
  {
   "cell_type": "code",
   "execution_count": 1,
   "metadata": {},
   "outputs": [
    {
     "name": "stdout",
     "output_type": "stream",
     "text": [
      "(2, 1)\n"
     ]
    },
    {
     "data": {
      "text/plain": [
       "array([[-0.20470766],\n",
       "       [ 0.47894334]])"
      ]
     },
     "execution_count": 1,
     "metadata": {},
     "output_type": "execute_result"
    }
   ],
   "source": [
    "import statsmodels.api as sm\n",
    "import statsmodels.formula.api as smf\n",
    "import numpy as np\n",
    "\n",
    "def dnorm(mean,var,size=1):\n",
    "    if(isinstance(size,int)):\n",
    "        size=size,#生成(单元素)元组\n",
    "    print(size)\n",
    "    return mean+np.sqrt(var)*np.random.randn(*size)#解包\n",
    "np.random.seed(12345)\n",
    "dnorm(0,1,(2,1))"
   ]
  },
  {
   "cell_type": "code",
   "execution_count": 2,
   "metadata": {},
   "outputs": [
    {
     "name": "stdout",
     "output_type": "stream",
     "text": [
      "(100,)\n",
      "(100,)\n",
      "(100,)\n",
      "(100,)\n"
     ]
    },
    {
     "data": {
      "text/plain": [
       "array([-0.09087764, -0.48949442, -0.12894109, -0.04501494,  0.08757735,\n",
       "       -0.50456809, -0.54582359,  0.26527124,  0.59784431,  0.45268655,\n",
       "        0.08698737,  0.05540612, -0.09117045,  0.14472907, -0.15127161,\n",
       "       -0.05633559,  1.2167688 , -0.02230032, -0.69063922,  0.08524475,\n",
       "        0.73444882, -0.35271834, -0.25469893,  0.30780133,  0.70383282,\n",
       "       -0.5331801 , -0.22072084, -0.09677542, -0.49691476, -1.33344177,\n",
       "       -0.37685375,  1.25999316, -0.29484543, -0.61445479,  0.18725508,\n",
       "       -0.40779804,  0.05730302,  0.4745453 , -0.43516233,  0.03148314,\n",
       "       -0.05635841,  0.12133475,  0.22345618,  0.05955794,  0.25805322,\n",
       "       -0.2750181 ,  0.30513496, -0.20032791,  0.08627269, -0.42451706,\n",
       "        0.23481135, -0.32057314,  0.67561398, -0.38726135, -0.37863875,\n",
       "       -0.16376385, -0.17011089,  0.39236031, -0.13687819,  0.18865275,\n",
       "       -0.13990581,  0.61372834, -0.40825235,  0.46866481, -0.59632133,\n",
       "       -0.07708193,  0.70818684,  0.14742778, -0.25243755, -0.45076951,\n",
       "        0.14863784,  0.02763661, -0.15376531, -0.37908987, -0.69274212,\n",
       "       -0.41747033, -0.4004324 ,  0.46133304,  0.02410373, -0.29847886,\n",
       "       -0.44362476, -0.07404956,  1.24385596,  0.17650843, -0.29855216,\n",
       "       -0.33862971, -0.53904685,  0.25107301, -0.22291509,  1.28761388,\n",
       "       -0.16810918,  0.58654422,  0.06753127,  0.25301877, -0.14856336,\n",
       "        0.34851615,  0.20408018,  0.40198997,  0.85142634, -0.31433003])"
      ]
     },
     "execution_count": 2,
     "metadata": {},
     "output_type": "execute_result"
    }
   ],
   "source": [
    "N = 100\n",
    "X = np.c_[dnorm(0, 0.4, size=N),\n",
    "    dnorm(0, 0.6, size=N),\n",
    "    dnorm(0, 0.2, size=N)]\n",
    "eps = dnorm(0, 0.1, size=N)\n",
    "beta = [0.1, 0.3, 0.5]\n",
    "y = np.dot(X, beta) + eps#linear model\n",
    "y"
   ]
  },
  {
   "cell_type": "code",
   "execution_count": 3,
   "metadata": {},
   "outputs": [
    {
     "data": {
      "text/html": [
       "<table class=\"simpletable\">\n",
       "<tr>\n",
       "          <td>Model:</td>                 <td>OLS</td>       <td>Adj. R-squared (uncentered):</td>   <td>0.431</td> \n",
       "</tr>\n",
       "<tr>\n",
       "    <td>Dependent Variable:</td>           <td>y</td>                    <td>AIC:</td>              <td>72.3375</td>\n",
       "</tr>\n",
       "<tr>\n",
       "           <td>Date:</td>          <td>2023-08-09 18:24</td>             <td>BIC:</td>              <td>80.1530</td>\n",
       "</tr>\n",
       "<tr>\n",
       "     <td>No. Observations:</td>           <td>100</td>              <td>Log-Likelihood:</td>        <td>-33.169</td>\n",
       "</tr>\n",
       "<tr>\n",
       "         <td>Df Model:</td>                <td>3</td>                <td>F-statistic:</td>           <td>26.25</td> \n",
       "</tr>\n",
       "<tr>\n",
       "       <td>Df Residuals:</td>             <td>97</td>             <td>Prob (F-statistic):</td>     <td>1.62e-12</td>\n",
       "</tr>\n",
       "<tr>\n",
       "  <td>R-squared (uncentered):</td>       <td>0.448</td>                 <td>Scale:</td>             <td>0.11718</td>\n",
       "</tr>\n",
       "</table>\n",
       "<table class=\"simpletable\">\n",
       "<tr>\n",
       "   <td></td>   <th>Coef.</th> <th>Std.Err.</th>    <th>t</th>    <th>P>|t|</th> <th>[0.025</th> <th>0.975]</th>\n",
       "</tr>\n",
       "<tr>\n",
       "  <th>x1</th> <td>0.1727</td>  <td>0.0518</td>  <td>3.3351</td> <td>0.0012</td> <td>0.0699</td> <td>0.2755</td>\n",
       "</tr>\n",
       "<tr>\n",
       "  <th>x2</th> <td>0.2348</td>  <td>0.0461</td>  <td>5.0954</td> <td>0.0000</td> <td>0.1434</td> <td>0.3263</td>\n",
       "</tr>\n",
       "<tr>\n",
       "  <th>x3</th> <td>0.4946</td>  <td>0.0779</td>  <td>6.3482</td> <td>0.0000</td> <td>0.3400</td> <td>0.6493</td>\n",
       "</tr>\n",
       "</table>\n",
       "<table class=\"simpletable\">\n",
       "<tr>\n",
       "     <td>Omnibus:</td>    <td>4.851</td>  <td>Durbin-Watson:</td>   <td>2.165</td>\n",
       "</tr>\n",
       "<tr>\n",
       "  <td>Prob(Omnibus):</td> <td>0.088</td> <td>Jarque-Bera (JB):</td> <td>4.219</td>\n",
       "</tr>\n",
       "<tr>\n",
       "       <td>Skew:</td>     <td>0.476</td>     <td>Prob(JB):</td>     <td>0.121</td>\n",
       "</tr>\n",
       "<tr>\n",
       "     <td>Kurtosis:</td>   <td>3.327</td>  <td>Condition No.:</td>     <td>2</td>  \n",
       "</tr>\n",
       "</table>"
      ],
      "text/plain": [
       "<class 'statsmodels.iolib.summary2.Summary'>\n",
       "\"\"\"\n",
       "                       Results: Ordinary least squares\n",
       "==============================================================================\n",
       "Model:                  OLS              Adj. R-squared (uncentered): 0.431   \n",
       "Dependent Variable:     y                AIC:                         72.3375 \n",
       "Date:                   2023-08-09 18:24 BIC:                         80.1530 \n",
       "No. Observations:       100              Log-Likelihood:              -33.169 \n",
       "Df Model:               3                F-statistic:                 26.25   \n",
       "Df Residuals:           97               Prob (F-statistic):          1.62e-12\n",
       "R-squared (uncentered): 0.448            Scale:                       0.11718 \n",
       "------------------------------------------------------------------------------------\n",
       "           Coef.        Std.Err.         t          P>|t|        [0.025       0.975]\n",
       "------------------------------------------------------------------------------------\n",
       "x1         0.1727         0.0518       3.3351       0.0012       0.0699       0.2755\n",
       "x2         0.2348         0.0461       5.0954       0.0000       0.1434       0.3263\n",
       "x3         0.4946         0.0779       6.3482       0.0000       0.3400       0.6493\n",
       "------------------------------------------------------------------------------\n",
       "Omnibus:                   4.851            Durbin-Watson:               2.165\n",
       "Prob(Omnibus):             0.088            Jarque-Bera (JB):            4.219\n",
       "Skew:                      0.476            Prob(JB):                    0.121\n",
       "Kurtosis:                  3.327            Condition No.:               2    \n",
       "==============================================================================\n",
       "\n",
       "\"\"\""
      ]
     },
     "execution_count": 3,
     "metadata": {},
     "output_type": "execute_result"
    }
   ],
   "source": [
    "#The sm.add_constant function can add an intercept column to an existing matrix\n",
    "#齐次坐标\n",
    "X_model = sm.add_constant(X)\n",
    "\n",
    "model = sm.OLS(y, X)\n",
    "# fit an ordinary least squares linear regression\n",
    "results = model.fit()\n",
    "results.summary2()"
   ]
  },
  {
   "cell_type": "code",
   "execution_count": null,
   "metadata": {},
   "outputs": [],
   "source": []
  }
 ],
 "metadata": {
  "kernelspec": {
   "display_name": "Python 3",
   "language": "python",
   "name": "python3"
  },
  "language_info": {
   "codemirror_mode": {
    "name": "ipython",
    "version": 3
   },
   "file_extension": ".py",
   "mimetype": "text/x-python",
   "name": "python",
   "nbconvert_exporter": "python",
   "pygments_lexer": "ipython3",
   "version": "3.10.5"
  },
  "orig_nbformat": 4
 },
 "nbformat": 4,
 "nbformat_minor": 2
}
