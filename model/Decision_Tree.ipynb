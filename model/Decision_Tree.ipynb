{
 "cells": [
  {
   "cell_type": "code",
   "execution_count": 224,
   "metadata": {},
   "outputs": [
    {
     "name": "stdout",
     "output_type": "stream",
     "text": [
      "{'root': {'001': {'a': {'003': {'c': {0: 'e'}}, 1: 'd'}}, '002': 'b'}}\n"
     ]
    },
    {
     "data": {
      "image/png": "[encoded data removed]",
      "text/plain": [
       "<Figure size 432x288 with 1 Axes>"
      ]
     },
     "metadata": {},
     "output_type": "display_data"
    }
   ],
   "source": [
    "from collections import deque\n",
    "#节点\n",
    "class Node:\n",
    "    def __init__(self,attribute='',children=[],parent='') -> None:\n",
    "        self.attr=attribute\n",
    "        self.children=children\n",
    "        self.parent=parent\n",
    "   \n",
    "#树\n",
    "class Tree:\n",
    "    def __init__(self,root) -> None:\n",
    "        self.root=root\n",
    "        \n",
    "    def plot(self):\n",
    "        tree_json={self.root.attr:{}}#DFS\n",
    "\n",
    "        if(len(self.root.children)!=0):\n",
    "            node_queue=deque([self.root])\n",
    "            json_queue=deque([tree_json[self.root.attr]])\n",
    "            \n",
    "            while(len(node_queue)!=0):\n",
    "                cur_node=node_queue.popleft()\n",
    "                cur_arr=cur_node.children\n",
    "                cur_json=json_queue.popleft()\n",
    "                for i in range(len(cur_arr)):\n",
    "                    if(cur_arr[i].children!=[]):#非叶节点\n",
    "                        if(cur_arr[i].parent!=''):\n",
    "                            cur_json[cur_arr[i].parent]={cur_arr[i].attr:{}}\n",
    "                            json_queue.append(cur_json[cur_arr[i].parent][cur_arr[i].attr])\n",
    "                        else:\n",
    "                            cur_json[i]={cur_arr[i].attr:{}}\n",
    "                            json_queue.append(cur_json[i][cur_arr[i].attr])\n",
    "                        node_queue.append(cur_arr[i])\n",
    "                        \n",
    "                    else:\n",
    "                        if(cur_arr[i].parent!=''):\n",
    "                            cur_json[cur_arr[i].parent]=cur_arr[i].attr\n",
    "                        else:\n",
    "                            cur_json[i]=cur_arr[i].attr\n",
    "            print(tree_json)\n",
    "            tp.createPlot(tree_json)\n",
    "        \n",
    "import treePlotter as tp \n",
    "root=Node(\"root\",[Node('a',[Node(\"c\",[Node('e')],'003'),Node('d')],\"001\"),Node('b',parent=\"002\")])\n",
    "t1=Tree(root)\n",
    "t1.plot()"
   ]
  },
  {
   "cell_type": "code",
   "execution_count": 225,
   "metadata": {},
   "outputs": [
    {
     "data": {
      "text/plain": [
       "0.14078143361499607"
      ]
     },
     "execution_count": 225,
     "metadata": {},
     "output_type": "execute_result"
    }
   ],
   "source": [
    "import math\n",
    "class Dataset:\n",
    "    def __init__(self,arr,attrs,class_name):\n",
    "        self.data=arr#用来分类的类名如\"好瓜\"\n",
    "        self.attrs=attrs\n",
    "        self.class_name=class_name\n",
    "        self.count=len(self.data)\n",
    "        tmp=self.get_prop(class_name)\n",
    "        ans=0\n",
    "        for i in tmp:\n",
    "            if(tmp[i]!=0):\n",
    "                ans-=tmp[i]*math.log2(tmp[i])\n",
    "        self.entropy=ans\n",
    "        \n",
    "    def get_prop(self,attr):\n",
    "        arr=[obj[attr] for obj in self.data]\n",
    "        tmp={}\n",
    "        for attr in A[attr]:\n",
    "            tmp[attr]=0\n",
    "        for attr in arr:\n",
    "            tmp[attr]+=1\n",
    "        for i in tmp:\n",
    "            tmp[i]/=len(arr)\n",
    "        return tmp\n",
    "    \n",
    "    def get_gain(self,attr):\n",
    "        tmp={}\n",
    "        for i in A[attr]:\n",
    "            tmp[i]={}\n",
    "            for j in A[self.class_name]:\n",
    "                tmp[i][j]=0\n",
    "            tmp[i]['num']=0\n",
    "        for k in self.data:\n",
    "            tmp[k[attr]][k[self.class_name]]+=1\n",
    "            tmp[k[attr]]['num']+=1\n",
    "        ent=0\n",
    "        for i in tmp:\n",
    "            for j in A[self.class_name]:\n",
    "                num=tmp[i][j]\n",
    "                if(num!=0):\n",
    "                    ent-=(num/self.count)*math.log2(num/tmp[i]['num'])\n",
    "        return self.entropy-ent\n",
    "D = [\n",
    "    {'色泽': '青绿', '根蒂': '蜷缩', '敲声': '浊响', '纹理': '清晰', '脐部': '凹陷', '触感': '硬滑', '好瓜': '是'},\n",
    "    {'色泽': '乌黑', '根蒂': '蜷缩', '敲声': '沉闷', '纹理': '清晰', '脐部': '凹陷', '触感': '硬滑', '好瓜': '是'},\n",
    "    {'色泽': '乌黑', '根蒂': '蜷缩', '敲声': '浊响', '纹理': '清晰', '脐部': '凹陷', '触感': '硬滑', '好瓜': '是'},\n",
    "    {'色泽': '青绿', '根蒂': '蜷缩', '敲声': '沉闷', '纹理': '清晰', '脐部': '凹陷', '触感': '硬滑', '好瓜': '是'},\n",
    "    {'色泽': '浅白', '根蒂': '蜷缩', '敲声': '浊响', '纹理': '清晰', '脐部': '凹陷', '触感': '硬滑', '好瓜': '是'},\n",
    "    {'色泽': '青绿', '根蒂': '稍蜷', '敲声': '浊响', '纹理': '清晰', '脐部': '稍凹', '触感': '软粘', '好瓜': '是'},\n",
    "    {'色泽': '乌黑', '根蒂': '稍蜷', '敲声': '浊响', '纹理': '稍糊', '脐部': '稍凹', '触感': '软粘', '好瓜': '是'},\n",
    "    {'色泽': '乌黑', '根蒂': '稍蜷', '敲声': '浊响', '纹理': '清晰', '脐部': '稍凹', '触感': '硬滑', '好瓜': '是'},\n",
    "    {'色泽': '乌黑', '根蒂': '稍蜷', '敲声': '沉闷', '纹理': '稍糊', '脐部': '稍凹', '触感': '硬滑', '好瓜': '否'},\n",
    "    {'色泽': '青绿', '根蒂': '硬挺', '敲声': '清脆', '纹理': '清晰', '脐部': '平坦', '触感': '软粘', '好瓜': '否'},\n",
    "    {'色泽': '浅白', '根蒂': '硬挺', '敲声': '清脆', '纹理': '模糊', '脐部': '平坦', '触感': '硬滑', '好瓜': '否'},\n",
    "    {'色泽': '浅白', '根蒂': '蜷缩', '敲声': '浊响', '纹理': '模糊', '脐部': '平坦', '触感': '软粘', '好瓜': '否'},\n",
    "    {'色泽': '青绿', '根蒂': '稍蜷', '敲声': '浊响', '纹理': '稍糊', '脐部': '凹陷', '触感': '硬滑', '好瓜': '否'},\n",
    "    {'色泽': '浅白', '根蒂': '稍蜷', '敲声': '沉闷', '纹理': '稍糊', '脐部': '凹陷', '触感': '硬滑', '好瓜': '否'},\n",
    "    {'色泽': '乌黑', '根蒂': '稍蜷', '敲声': '浊响', '纹理': '清晰', '脐部': '稍凹', '触感': '软粘', '好瓜': '否'},\n",
    "    {'色泽': '浅白', '根蒂': '蜷缩', '敲声': '浊响', '纹理': '模糊', '脐部': '平坦', '触感': '硬滑', '好瓜': '否'},\n",
    "    {'色泽': '青绿', '根蒂': '蜷缩', '敲声': '沉闷', '纹理': '稍糊', '脐部': '稍凹', '触感': '硬滑', '好瓜': '否'},\n",
    "]\n",
    "\n",
    "A={'色泽':['青绿','乌黑','浅白'],'根蒂':['蜷缩','稍蜷','硬挺'],'敲声':['沉闷','浊响','清脆'],'纹理':['清晰','稍糊','模糊'],'脐部':['平坦','稍凹','凹陷'],'触感':['硬滑','软粘'],'好瓜':['是','否']}\n",
    "dataset=Dataset(D,A,\"好瓜\")\n",
    "dataset.get_gain(\"敲声\")"
   ]
  },
  {
   "cell_type": "code",
   "execution_count": 226,
   "metadata": {},
   "outputs": [
    {
     "name": "stdout",
     "output_type": "stream",
     "text": [
      "清晰\n",
      "蜷缩\n",
      "稍蜷\n",
      "青绿\n",
      "乌黑\n",
      "硬滑\n",
      "软粘\n",
      "浅白\n",
      "硬挺\n",
      "稍糊\n",
      "硬滑\n",
      "软粘\n",
      "模糊\n"
     ]
    },
    {
     "data": {
      "text/plain": [
       "<__main__.Tree at 0x18833491de0>"
      ]
     },
     "execution_count": 226,
     "metadata": {},
     "output_type": "execute_result"
    }
   ],
   "source": [
    "max_gain=0\n",
    "best_attr=''\n",
    "\n",
    "for i in A:\n",
    "    if(i!=dataset.class_name):\n",
    "        cur_gain=dataset.get_gain(i)\n",
    "        # print(cur_gain)\n",
    "        if(cur_gain>max_gain):\n",
    "            max_gain=cur_gain\n",
    "            best_attr=i\n",
    "decision_tree=Tree(Node(best_attr))\n",
    "\n",
    "\n",
    "#递归从一个节点生成children\n",
    "def generate_children(node,D,A):\n",
    "    for i in A[node.attr]:\n",
    "        print(i)\n",
    "        next_dataset=[]\n",
    "        for j in D:\n",
    "            if(j[node.attr]==i):\n",
    "                next_dataset.append(j)\n",
    "        # print(next_dataset)\n",
    "        if(next_dataset!=[]):\n",
    "            tmpA=A.copy()\n",
    "            del tmpA[node.attr]\n",
    "            dataset=Dataset(next_dataset,tmpA,\"好瓜\")\n",
    "\n",
    "            max_gain=0\n",
    "            tmp_best_attr=''\n",
    "\n",
    "            for k in tmpA:\n",
    "                if(k!=dataset.class_name):\n",
    "                    cur_gain=dataset.get_gain(k)\n",
    "                    # print(cur_gain)\n",
    "                    if(cur_gain>max_gain):\n",
    "                        max_gain=cur_gain\n",
    "                        tmp_best_attr=k\n",
    "            if(tmp_best_attr!=''):\n",
    "                node.children.append(generate_children(Node(tmp_best_attr,parent=i),next_dataset,tmpA))\n",
    "    return node\n",
    "# 递归和类形参实参传递冲突，建议优化成非递归\n",
    "Tree(generate_children(Node(best_attr),D,A))"
   ]
  }
 ],
 "metadata": {
  "kernelspec": {
   "display_name": "Python 3",
   "language": "python",
   "name": "python3"
  },
  "language_info": {
   "codemirror_mode": {
    "name": "ipython",
    "version": 3
   },
   "file_extension": ".py",
   "mimetype": "text/x-python",
   "name": "python",
   "nbconvert_exporter": "python",
   "pygments_lexer": "ipython3",
   "version": "3.10.5"
  },
  "orig_nbformat": 4
 },
 "nbformat": 4,
 "nbformat_minor": 2
}
