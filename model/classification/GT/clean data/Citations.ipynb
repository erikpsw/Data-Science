{
 "cells": [
  {
   "cell_type": "markdown",
   "id": "fb7d6884-0638-4822-b36c-b851a5365849",
   "metadata": {},
   "source": [
    "Citations:"
   ]
  },
  {
   "cell_type": "markdown",
   "id": "ef6e4d4b-6d11-4a29-acf9-864c5938267e",
   "metadata": {},
   "source": [
    "https://www.geeksforgeeks.org/detecting-multicollinearity-with-vif-python/"
   ]
  },
  {
   "cell_type": "code",
   "execution_count": null,
   "id": "1c55465c-c98a-467a-919e-dbab322f1ddc",
   "metadata": {},
   "outputs": [],
   "source": []
  }
 ],
 "metadata": {
  "kernelspec": {
   "display_name": "Python 3 (ipykernel)",
   "language": "python",
   "name": "python3"
  },
  "language_info": {
   "codemirror_mode": {
    "name": "ipython",
    "version": 3
   },
   "file_extension": ".py",
   "mimetype": "text/x-python",
   "name": "python",
   "nbconvert_exporter": "python",
   "pygments_lexer": "ipython3",
   "version": "3.11.7"
  }
 },
 "nbformat": 4,
 "nbformat_minor": 5
}
