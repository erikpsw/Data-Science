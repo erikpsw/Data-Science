{
 "cells": [
  {
   "cell_type": "code",
   "execution_count": 25,
   "metadata": {},
   "outputs": [
    {
     "data": {
      "text/plain": [
       "      fun: 5.551437397369767e-17\n",
       " hess_inv: array([[0.5]])\n",
       "      jac: array([-4.3254289e-13])\n",
       "  message: 'Optimization terminated successfully.'\n",
       "     nfev: 6\n",
       "      nit: 2\n",
       "     njev: 3\n",
       "   status: 0\n",
       "  success: True\n",
       "        x: array([2.99999999])"
      ]
     },
     "execution_count": 25,
     "metadata": {},
     "output_type": "execute_result"
    }
   ],
   "source": [
    "import scipy.optimize as op\n",
    "\n",
    "op.minimize(lambda x:(x-3)**2,2)"
   ]
  },
  {
   "cell_type": "code",
   "execution_count": 26,
   "metadata": {},
   "outputs": [
    {
     "data": {
      "text/plain": [
       "     fun: 0.8000000011920985\n",
       "     jac: array([ 0.80000002, -1.59999999])\n",
       " message: 'Optimization terminated successfully'\n",
       "    nfev: 10\n",
       "     nit: 3\n",
       "    njev: 3\n",
       "  status: 0\n",
       " success: True\n",
       "       x: array([1.4, 1.7])"
      ]
     },
     "execution_count": 26,
     "metadata": {},
     "output_type": "execute_result"
    }
   ],
   "source": [
    "f=lambda x:(x[0]-1)**2+(x[1]-2.5)**2\n",
    "\n",
    "cons=({'type':'ineq','fun':lambda x:x[0]-2*x[1]+2},\n",
    "      {'type':'ineq','fun':lambda x:-x[0]-2*x[1]+6},\n",
    "      {'type':'ineq','fun':lambda x:-x[0]+2*x[1]+2},  \n",
    "      )\n",
    "bnds=((0,None),(0,None))\n",
    "op.minimize(f,(2,0),bounds=bnds,constraints=cons)"
   ]
  },
  {
   "cell_type": "code",
   "execution_count": 27,
   "metadata": {},
   "outputs": [
    {
     "data": {
      "text/plain": [
       "     fun: 0.8000000011920985\n",
       "     jac: array([ 0.80000002, -1.59999999])\n",
       " message: 'Optimization terminated successfully'\n",
       "    nfev: 10\n",
       "     nit: 3\n",
       "    njev: 3\n",
       "  status: 0\n",
       " success: True\n",
       "       x: array([1.4, 1.7])"
      ]
     },
     "execution_count": 27,
     "metadata": {},
     "output_type": "execute_result"
    }
   ],
   "source": [
    "f=lambda x:(x[0]-1)**2+(x[1]-2.5)**2\n",
    "\n",
    "cons=({'type':'ineq','fun':lambda x:x[0]-2*x[1]+2},\n",
    "      {'type':'ineq','fun':lambda x:-x[0]-2*x[1]+6},\n",
    "      {'type':'ineq','fun':lambda x:-x[0]+2*x[1]+2},  \n",
    "      )\n",
    "bnds=((0,None),(0,None))\n",
    "op.minimize(f,(2,0),bounds=bnds,constraints=cons)"
   ]
  },
  {
   "cell_type": "code",
   "execution_count": 28,
   "metadata": {},
   "outputs": [
    {
     "name": "stdout",
     "output_type": "stream",
     "text": [
      "最小值: 143.999999999835\n",
      "最小值时的x和y: [0. 4.]\n"
     ]
    }
   ],
   "source": [
    "import numpy as np\n",
    "from scipy.optimize import minimize\n",
    "\n",
    "def f(x):\n",
    "    return -5*x[0]- 36*x[1]\n",
    "\n",
    "cons = [\n",
    "    {'type': 'ineq', 'fun': lambda x: -8*x[0] - 6*x[1] + 39},\n",
    "    {'type': 'ineq', 'fun': lambda x: -6*x[0] - 8*x[1] + 32},\n",
    "    {'type': 'ineq', 'fun': lambda x: x[0]},\n",
    "    {'type': 'ineq', 'fun': lambda x: x[1]}\n",
    "]\n",
    "\n",
    "bounds = ((0, None), (0, None))\n",
    "\n",
    "result = minimize(f, [0, 0], bounds=bounds, constraints=cons)\n",
    "\n",
    "print(\"最小值:\", -result.fun)\n",
    "print(\"最小值时的x和y:\", result.x)"
   ]
  }
 ],
 "metadata": {
  "kernelspec": {
   "display_name": "Python 3",
   "language": "python",
   "name": "python3"
  },
  "language_info": {
   "codemirror_mode": {
    "name": "ipython",
    "version": 3
   },
   "file_extension": ".py",
   "mimetype": "text/x-python",
   "name": "python",
   "nbconvert_exporter": "python",
   "pygments_lexer": "ipython3",
   "version": "3.10.5"
  },
  "orig_nbformat": 4
 },
 "nbformat": 4,
 "nbformat_minor": 2
}
