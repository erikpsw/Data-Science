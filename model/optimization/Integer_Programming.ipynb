{
 "cells": [
  {
   "cell_type": "markdown",
   "metadata": {},
   "source": [
    "$ \\begin{array}{l}\\max z=3 x_{1}-2 x_{2}+5 x_{3} \\\\ \\left\\{\\begin{array}{l}x_{1}+2 x_{2}-x_{3} \\leq 2 \\\\ x_{1}+4 x_{2}+x_{3} \\leq 4 \\\\ x_{1}+x_{2} \\leq 3 \\\\ 4 x_{2}+x_{3} \\leq 6 \\\\ x_{1}, x_{2}, x_{3}=0 \\text { 或 } 1\\end{array}\\right.\\end{array} $"
   ]
  },
  {
   "cell_type": "code",
   "execution_count": 1,
   "metadata": {},
   "outputs": [
    {
     "data": {
      "text/plain": [
       "1"
      ]
     },
     "execution_count": 1,
     "metadata": {},
     "output_type": "execute_result"
    }
   ],
   "source": [
    "import pulp\n",
    "\n",
    "ProbLP1 = pulp.LpProblem(\"ProbLP1\", sense=pulp.LpMaximize)\n",
    "\n",
    "x1 = pulp.LpVariable('x1', lowBound=0, upBound=1, cat='Integer')  # 定义 x1，变量类型：整数\n",
    "x2 = pulp.LpVariable('x2', lowBound=0, upBound=1, cat='Integer')  # 定义 x2，变量类型：整数\n",
    "x3 = pulp.LpVariable('x3', lowBound=0, upBound=1, cat='Integer')\n",
    "\n",
    "ProbLP1+=(3*x1-2*x2+5*x3)\n",
    "ProbLP1+=(x1+2*x2-x3<=2)\n",
    "ProbLP1+=(x1+4*x2+x3<=4)\n",
    "ProbLP1+=(x1+x2<=3)\n",
    "ProbLP1+=(4*x2+x3<=6)\n",
    "ProbLP1.solve()"
   ]
  },
  {
   "cell_type": "code",
   "execution_count": 4,
   "metadata": {},
   "outputs": [
    {
     "name": "stdout",
     "output_type": "stream",
     "text": [
      "x1 = 1.0\n",
      "x2 = 0.0\n",
      "x3 = 1.0\n",
      "F1(x) = 8.0\n"
     ]
    }
   ],
   "source": [
    "for v in ProbLP1.variables():\n",
    "        print(v.name, \"=\", v.varValue)  # 输出每个变量的最优值\n",
    "print(\"F1(x) =\", pulp.value(ProbLP1.objective))  # 输出最优解的目标函数值"
   ]
  },
  {
   "cell_type": "code",
   "execution_count": null,
   "metadata": {},
   "outputs": [],
   "source": []
  }
 ],
 "metadata": {
  "kernelspec": {
   "display_name": "Python 3",
   "language": "python",
   "name": "python3"
  },
  "language_info": {
   "codemirror_mode": {
    "name": "ipython",
    "version": 3
   },
   "file_extension": ".py",
   "mimetype": "text/x-python",
   "name": "python",
   "nbconvert_exporter": "python",
   "pygments_lexer": "ipython3",
   "version": "3.10.5"
  },
  "orig_nbformat": 4
 },
 "nbformat": 4,
 "nbformat_minor": 2
}
