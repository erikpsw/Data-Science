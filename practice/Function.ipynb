{
 "metadata": {
  "language_info": {
   "codemirror_mode": {
    "name": "ipython",
    "version": 3
   },
   "file_extension": ".py",
   "mimetype": "text/x-python",
   "name": "python",
   "nbconvert_exporter": "python",
   "pygments_lexer": "ipython3",
   "version": "3.7.6-final"
  },
  "orig_nbformat": 2,
  "kernelspec": {
   "name": "python_defaultSpec_1598362026876",
   "display_name": "Python 3.7.6 64-bit ('base': conda)"
  }
 },
 "nbformat": 4,
 "nbformat_minor": 2,
 "cells": [
  {
   "cell_type": "code",
   "execution_count": 5,
   "metadata": {},
   "outputs": [],
   "source": [
    "import pandas as pd\n",
    "import numpy as np"
   ]
  },
  {
   "cell_type": "code",
   "execution_count": 9,
   "metadata": {},
   "outputs": [
    {
     "output_type": "execute_result",
     "data": {
      "text/plain": "               b         d         e\nUtah   -0.667910 -0.630620 -0.642488\nOhio   -1.406898  0.482988 -0.103213\nTexas   0.867126 -1.322456 -1.900583\nOregon -0.051295  1.135604  1.885465",
      "text/html": "<div>\n<style scoped>\n    .dataframe tbody tr th:only-of-type {\n        vertical-align: middle;\n    }\n\n    .dataframe tbody tr th {\n        vertical-align: top;\n    }\n\n    .dataframe thead th {\n        text-align: right;\n    }\n</style>\n<table border=\"1\" class=\"dataframe\">\n  <thead>\n    <tr style=\"text-align: right;\">\n      <th></th>\n      <th>b</th>\n      <th>d</th>\n      <th>e</th>\n    </tr>\n  </thead>\n  <tbody>\n    <tr>\n      <th>Utah</th>\n      <td>-0.667910</td>\n      <td>-0.630620</td>\n      <td>-0.642488</td>\n    </tr>\n    <tr>\n      <th>Ohio</th>\n      <td>-1.406898</td>\n      <td>0.482988</td>\n      <td>-0.103213</td>\n    </tr>\n    <tr>\n      <th>Texas</th>\n      <td>0.867126</td>\n      <td>-1.322456</td>\n      <td>-1.900583</td>\n    </tr>\n    <tr>\n      <th>Oregon</th>\n      <td>-0.051295</td>\n      <td>1.135604</td>\n      <td>1.885465</td>\n    </tr>\n  </tbody>\n</table>\n</div>"
     },
     "metadata": {},
     "execution_count": 9
    }
   ],
   "source": [
    "frame = pd.DataFrame(np.random.randn(4, 3), columns=list('bde'),\n",
    "index=['Utah', 'Ohio', 'Texas', 'Oregon'])\n",
    "frame"
   ]
  },
  {
   "cell_type": "code",
   "execution_count": 10,
   "metadata": {},
   "outputs": [
    {
     "output_type": "execute_result",
     "data": {
      "text/plain": "               b         d         e\nUtah    0.667910  0.630620  0.642488\nOhio    1.406898  0.482988  0.103213\nTexas   0.867126  1.322456  1.900583\nOregon  0.051295  1.135604  1.885465",
      "text/html": "<div>\n<style scoped>\n    .dataframe tbody tr th:only-of-type {\n        vertical-align: middle;\n    }\n\n    .dataframe tbody tr th {\n        vertical-align: top;\n    }\n\n    .dataframe thead th {\n        text-align: right;\n    }\n</style>\n<table border=\"1\" class=\"dataframe\">\n  <thead>\n    <tr style=\"text-align: right;\">\n      <th></th>\n      <th>b</th>\n      <th>d</th>\n      <th>e</th>\n    </tr>\n  </thead>\n  <tbody>\n    <tr>\n      <th>Utah</th>\n      <td>0.667910</td>\n      <td>0.630620</td>\n      <td>0.642488</td>\n    </tr>\n    <tr>\n      <th>Ohio</th>\n      <td>1.406898</td>\n      <td>0.482988</td>\n      <td>0.103213</td>\n    </tr>\n    <tr>\n      <th>Texas</th>\n      <td>0.867126</td>\n      <td>1.322456</td>\n      <td>1.900583</td>\n    </tr>\n    <tr>\n      <th>Oregon</th>\n      <td>0.051295</td>\n      <td>1.135604</td>\n      <td>1.885465</td>\n    </tr>\n  </tbody>\n</table>\n</div>"
     },
     "metadata": {},
     "execution_count": 10
    }
   ],
   "source": [
    "np.abs(frame)"
   ]
  },
  {
   "cell_type": "code",
   "execution_count": 12,
   "metadata": {},
   "outputs": [
    {
     "output_type": "execute_result",
     "data": {
      "text/plain": "Utah      0.037290\nOhio      1.889886\nTexas     2.767708\nOregon    1.936760\ndtype: float64"
     },
     "metadata": {},
     "execution_count": 12
    }
   ],
   "source": [
    "f = lambda x: x.max() - x.min()\n",
    "frame.apply(f, axis='columns')#按行求差"
   ]
  },
  {
   "cell_type": "code",
   "execution_count": 13,
   "metadata": {},
   "outputs": [
    {
     "output_type": "execute_result",
     "data": {
      "text/plain": "            b         d         e\nmin -1.406898 -1.322456 -1.900583\nmax  0.867126  1.135604  1.885465",
      "text/html": "<div>\n<style scoped>\n    .dataframe tbody tr th:only-of-type {\n        vertical-align: middle;\n    }\n\n    .dataframe tbody tr th {\n        vertical-align: top;\n    }\n\n    .dataframe thead th {\n        text-align: right;\n    }\n</style>\n<table border=\"1\" class=\"dataframe\">\n  <thead>\n    <tr style=\"text-align: right;\">\n      <th></th>\n      <th>b</th>\n      <th>d</th>\n      <th>e</th>\n    </tr>\n  </thead>\n  <tbody>\n    <tr>\n      <th>min</th>\n      <td>-1.406898</td>\n      <td>-1.322456</td>\n      <td>-1.900583</td>\n    </tr>\n    <tr>\n      <th>max</th>\n      <td>0.867126</td>\n      <td>1.135604</td>\n      <td>1.885465</td>\n    </tr>\n  </tbody>\n</table>\n</div>"
     },
     "metadata": {},
     "execution_count": 13
    }
   ],
   "source": [
    "def f(x):\n",
    "    return pd.Series([x.min(), x.max()], index=['min', 'max'])\n",
    "\n",
    "frame.apply(f)"
   ]
  },
  {
   "cell_type": "code",
   "execution_count": 18,
   "metadata": {},
   "outputs": [
    {
     "output_type": "execute_result",
     "data": {
      "text/plain": "            b      d      e\nUtah    -0.67  -0.63  -0.64\nOhio    -1.41   0.48  -0.10\nTexas    0.87  -1.32  -1.90\nOregon  -0.05   1.14   1.89",
      "text/html": "<div>\n<style scoped>\n    .dataframe tbody tr th:only-of-type {\n        vertical-align: middle;\n    }\n\n    .dataframe tbody tr th {\n        vertical-align: top;\n    }\n\n    .dataframe thead th {\n        text-align: right;\n    }\n</style>\n<table border=\"1\" class=\"dataframe\">\n  <thead>\n    <tr style=\"text-align: right;\">\n      <th></th>\n      <th>b</th>\n      <th>d</th>\n      <th>e</th>\n    </tr>\n  </thead>\n  <tbody>\n    <tr>\n      <th>Utah</th>\n      <td>-0.67</td>\n      <td>-0.63</td>\n      <td>-0.64</td>\n    </tr>\n    <tr>\n      <th>Ohio</th>\n      <td>-1.41</td>\n      <td>0.48</td>\n      <td>-0.10</td>\n    </tr>\n    <tr>\n      <th>Texas</th>\n      <td>0.87</td>\n      <td>-1.32</td>\n      <td>-1.90</td>\n    </tr>\n    <tr>\n      <th>Oregon</th>\n      <td>-0.05</td>\n      <td>1.14</td>\n      <td>1.89</td>\n    </tr>\n  </tbody>\n</table>\n</div>"
     },
     "metadata": {},
     "execution_count": 18
    }
   ],
   "source": [
    "Format = lambda x: '%.2f' % x#保留小数后两位\n",
    "frame.applymap(Format)#对每一个元素"
   ]
  },
  {
   "cell_type": "code",
   "execution_count": 19,
   "metadata": {},
   "outputs": [
    {
     "output_type": "execute_result",
     "data": {
      "text/plain": "Utah      -0.64\nOhio      -0.10\nTexas     -1.90\nOregon     1.89\nName: e, dtype: object"
     },
     "metadata": {},
     "execution_count": 19
    }
   ],
   "source": [
    "frame['e'].map(format)#单列操作"
   ]
  }
 ]
}