{
 "cells": [
  {
   "cell_type": "code",
   "execution_count": 6,
   "metadata": {},
   "outputs": [
    {
     "name": "stdout",
     "output_type": "stream",
     "text": [
      "0.0\n",
      "0.7853981633974483\n",
      "1.5707963267948966\n",
      "2.356194490192345\n",
      "3.141592653589793\n",
      "3.9269908169872414\n",
      "4.71238898038469\n",
      "5.497787143782138\n",
      "6.283185307179586\n"
     ]
    },
    {
     "data": {
      "application/vnd.plotly.v1+json": {
       "config": {
        "plotlyServerURL": "https://plot.ly"
       },
       "data": [
        {
         "type": "scatter3d",
         "x": [
          0,
          205.77777777777777,
          411.55555555555554,
          617.3333333333333,
          823.1111111111111,
          1028.888888888889,
          1234.6666666666665,
          1440.4444444444443,
          1646.2222222222222,
          1852,
          0,
          145.5068620841651,
          291.0137241683302,
          436.5205862524953,
          582.0274483366604,
          727.5343104208256,
          873.0411725049906,
          1018.5480345891558,
          1164.0548966733209,
          1309.5617587574861,
          0,
          1.2600254844560545e-14,
          2.520050968912109e-14,
          3.780076453368163e-14,
          5.040101937824218e-14,
          6.300127422280273e-14,
          7.560152906736327e-14,
          8.82017839119238e-14,
          1.0080203875648436e-13,
          1.1340229360104491e-13,
          0,
          -145.5068620841651,
          -291.0137241683302,
          -436.52058625249526,
          -582.0274483366604,
          -727.5343104208255,
          -873.0411725049905,
          -1018.5480345891556,
          -1164.0548966733209,
          -1309.561758757486,
          0,
          -205.77777777777777,
          -411.55555555555554,
          -617.3333333333333,
          -823.1111111111111,
          -1028.888888888889,
          -1234.6666666666665,
          -1440.4444444444443,
          -1646.2222222222222,
          -1852,
          0,
          -145.50686208416514,
          -291.01372416833027,
          -436.5205862524954,
          -582.0274483366605,
          -727.5343104208257,
          -873.0411725049908,
          -1018.5480345891559,
          -1164.054896673321,
          -1309.5617587574864,
          0,
          -3.780076453368163e-14,
          -7.560152906736327e-14,
          -1.1340229360104489e-13,
          -1.5120305813472653e-13,
          -1.8900382266840816e-13,
          -2.2680458720208977e-13,
          -2.6460535173577143e-13,
          -3.0240611626945306e-13,
          -3.402068808031347e-13,
          0,
          145.50686208416508,
          291.01372416833016,
          436.52058625249515,
          582.0274483366603,
          727.5343104208254,
          873.0411725049903,
          1018.5480345891555,
          1164.0548966733206,
          1309.5617587574857,
          0,
          205.77777777777777,
          411.55555555555554,
          617.3333333333333,
          823.1111111111111,
          1028.888888888889,
          1234.6666666666665,
          1440.4444444444443,
          1646.2222222222222,
          1852
         ],
         "y": [
          0,
          0,
          0,
          0,
          0,
          0,
          0,
          0,
          0,
          0,
          0,
          145.5068620841651,
          291.0137241683302,
          436.5205862524953,
          582.0274483366604,
          727.5343104208256,
          873.0411725049906,
          1018.5480345891558,
          1164.0548966733209,
          1309.5617587574861,
          0,
          205.77777777777777,
          411.55555555555554,
          617.3333333333333,
          823.1111111111111,
          1028.888888888889,
          1234.6666666666665,
          1440.4444444444443,
          1646.2222222222222,
          1852,
          0,
          145.5068620841651,
          291.0137241683302,
          436.5205862524953,
          582.0274483366604,
          727.5343104208256,
          873.0411725049906,
          1018.5480345891558,
          1164.0548966733209,
          1309.5617587574861,
          0,
          2.520050968912109e-14,
          5.040101937824218e-14,
          7.560152906736327e-14,
          1.0080203875648436e-13,
          1.2600254844560545e-13,
          1.5120305813472653e-13,
          1.764035678238476e-13,
          2.0160407751296872e-13,
          2.2680458720208982e-13,
          0,
          -145.5068620841651,
          -291.0137241683302,
          -436.52058625249526,
          -582.0274483366604,
          -727.5343104208255,
          -873.0411725049905,
          -1018.5480345891556,
          -1164.0548966733209,
          -1309.561758757486,
          0,
          -205.77777777777777,
          -411.55555555555554,
          -617.3333333333333,
          -823.1111111111111,
          -1028.888888888889,
          -1234.6666666666665,
          -1440.4444444444443,
          -1646.2222222222222,
          -1852,
          0,
          -145.50686208416514,
          -291.01372416833027,
          -436.5205862524954,
          -582.0274483366605,
          -727.5343104208257,
          -873.0411725049908,
          -1018.5480345891559,
          -1164.054896673321,
          -1309.5617587574864,
          0,
          -5.040101937824218e-14,
          -1.0080203875648436e-13,
          -1.5120305813472653e-13,
          -2.0160407751296872e-13,
          -2.520050968912109e-13,
          -3.0240611626945306e-13,
          -3.528071356476952e-13,
          -4.0320815502593743e-13,
          -4.5360917440417965e-13
         ],
         "z": [
          120,
          125.38848074957046,
          130.77696149914092,
          136.1654422487114,
          141.55392299828188,
          146.94240374785232,
          152.3308844974228,
          157.71936524699328,
          163.10784599656373,
          168.4963267461342,
          120,
          123.81023127831445,
          127.6204625566289,
          131.43069383494336,
          135.2409251132578,
          139.05115639157225,
          142.86138766988668,
          146.67161894820114,
          150.48185022651558,
          154.29208150483004,
          120,
          120,
          120,
          120,
          120,
          120,
          120,
          120,
          120,
          120,
          120,
          116.18976872168555,
          112.3795374433711,
          108.56930616505666,
          104.75907488674221,
          100.94884360842777,
          97.13861233011332,
          93.32838105179887,
          89.51814977348442,
          85.70791849516998,
          120,
          114.61151925042954,
          109.22303850085906,
          103.8345577512886,
          98.44607700171814,
          93.05759625214768,
          87.6691155025772,
          82.28063475300674,
          76.89215400343627,
          71.5036732538658,
          120,
          116.18976872168555,
          112.3795374433711,
          108.56930616505666,
          104.75907488674221,
          100.94884360842777,
          97.13861233011332,
          93.32838105179887,
          89.51814977348442,
          85.70791849516996,
          120,
          120,
          120,
          120,
          120,
          120,
          120,
          120,
          119.99999999999999,
          119.99999999999999,
          120,
          123.81023127831445,
          127.6204625566289,
          131.43069383494333,
          135.2409251132578,
          139.05115639157222,
          142.86138766988668,
          146.67161894820111,
          150.48185022651558,
          154.29208150483,
          120,
          125.38848074957046,
          130.77696149914092,
          136.1654422487114,
          141.55392299828188,
          146.94240374785232,
          152.3308844974228,
          157.71936524699328,
          163.10784599656373,
          168.4963267461342
         ]
        }
       ],
       "layout": {
        "template": {
         "data": {
          "bar": [
           {
            "error_x": {
             "color": "#2a3f5f"
            },
            "error_y": {
             "color": "#2a3f5f"
            },
            "marker": {
             "line": {
              "color": "#E5ECF6",
              "width": 0.5
             },
             "pattern": {
              "fillmode": "overlay",
              "size": 10,
              "solidity": 0.2
             }
            },
            "type": "bar"
           }
          ],
          "barpolar": [
           {
            "marker": {
             "line": {
              "color": "#E5ECF6",
              "width": 0.5
             },
             "pattern": {
              "fillmode": "overlay",
              "size": 10,
              "solidity": 0.2
             }
            },
            "type": "barpolar"
           }
          ],
          "carpet": [
           {
            "aaxis": {
             "endlinecolor": "#2a3f5f",
             "gridcolor": "white",
             "linecolor": "white",
             "minorgridcolor": "white",
             "startlinecolor": "#2a3f5f"
            },
            "baxis": {
             "endlinecolor": "#2a3f5f",
             "gridcolor": "white",
             "linecolor": "white",
             "minorgridcolor": "white",
             "startlinecolor": "#2a3f5f"
            },
            "type": "carpet"
           }
          ],
          "choropleth": [
           {
            "colorbar": {
             "outlinewidth": 0,
             "ticks": ""
            },
            "type": "choropleth"
           }
          ],
          "contour": [
           {
            "colorbar": {
             "outlinewidth": 0,
             "ticks": ""
            },
            "colorscale": [
             [
              0,
              "#0d0887"
             ],
             [
              0.1111111111111111,
              "#46039f"
             ],
             [
              0.2222222222222222,
              "#7201a8"
             ],
             [
              0.3333333333333333,
              "#9c179e"
             ],
             [
              0.4444444444444444,
              "#bd3786"
             ],
             [
              0.5555555555555556,
              "#d8576b"
             ],
             [
              0.6666666666666666,
              "#ed7953"
             ],
             [
              0.7777777777777778,
              "#fb9f3a"
             ],
             [
              0.8888888888888888,
              "#fdca26"
             ],
             [
              1,
              "#f0f921"
             ]
            ],
            "type": "contour"
           }
          ],
          "contourcarpet": [
           {
            "colorbar": {
             "outlinewidth": 0,
             "ticks": ""
            },
            "type": "contourcarpet"
           }
          ],
          "heatmap": [
           {
            "colorbar": {
             "outlinewidth": 0,
             "ticks": ""
            },
            "colorscale": [
             [
              0,
              "#0d0887"
             ],
             [
              0.1111111111111111,
              "#46039f"
             ],
             [
              0.2222222222222222,
              "#7201a8"
             ],
             [
              0.3333333333333333,
              "#9c179e"
             ],
             [
              0.4444444444444444,
              "#bd3786"
             ],
             [
              0.5555555555555556,
              "#d8576b"
             ],
             [
              0.6666666666666666,
              "#ed7953"
             ],
             [
              0.7777777777777778,
              "#fb9f3a"
             ],
             [
              0.8888888888888888,
              "#fdca26"
             ],
             [
              1,
              "#f0f921"
             ]
            ],
            "type": "heatmap"
           }
          ],
          "heatmapgl": [
           {
            "colorbar": {
             "outlinewidth": 0,
             "ticks": ""
            },
            "colorscale": [
             [
              0,
              "#0d0887"
             ],
             [
              0.1111111111111111,
              "#46039f"
             ],
             [
              0.2222222222222222,
              "#7201a8"
             ],
             [
              0.3333333333333333,
              "#9c179e"
             ],
             [
              0.4444444444444444,
              "#bd3786"
             ],
             [
              0.5555555555555556,
              "#d8576b"
             ],
             [
              0.6666666666666666,
              "#ed7953"
             ],
             [
              0.7777777777777778,
              "#fb9f3a"
             ],
             [
              0.8888888888888888,
              "#fdca26"
             ],
             [
              1,
              "#f0f921"
             ]
            ],
            "type": "heatmapgl"
           }
          ],
          "histogram": [
           {
            "marker": {
             "pattern": {
              "fillmode": "overlay",
              "size": 10,
              "solidity": 0.2
             }
            },
            "type": "histogram"
           }
          ],
          "histogram2d": [
           {
            "colorbar": {
             "outlinewidth": 0,
             "ticks": ""
            },
            "colorscale": [
             [
              0,
              "#0d0887"
             ],
             [
              0.1111111111111111,
              "#46039f"
             ],
             [
              0.2222222222222222,
              "#7201a8"
             ],
             [
              0.3333333333333333,
              "#9c179e"
             ],
             [
              0.4444444444444444,
              "#bd3786"
             ],
             [
              0.5555555555555556,
              "#d8576b"
             ],
             [
              0.6666666666666666,
              "#ed7953"
             ],
             [
              0.7777777777777778,
              "#fb9f3a"
             ],
             [
              0.8888888888888888,
              "#fdca26"
             ],
             [
              1,
              "#f0f921"
             ]
            ],
            "type": "histogram2d"
           }
          ],
          "histogram2dcontour": [
           {
            "colorbar": {
             "outlinewidth": 0,
             "ticks": ""
            },
            "colorscale": [
             [
              0,
              "#0d0887"
             ],
             [
              0.1111111111111111,
              "#46039f"
             ],
             [
              0.2222222222222222,
              "#7201a8"
             ],
             [
              0.3333333333333333,
              "#9c179e"
             ],
             [
              0.4444444444444444,
              "#bd3786"
             ],
             [
              0.5555555555555556,
              "#d8576b"
             ],
             [
              0.6666666666666666,
              "#ed7953"
             ],
             [
              0.7777777777777778,
              "#fb9f3a"
             ],
             [
              0.8888888888888888,
              "#fdca26"
             ],
             [
              1,
              "#f0f921"
             ]
            ],
            "type": "histogram2dcontour"
           }
          ],
          "mesh3d": [
           {
            "colorbar": {
             "outlinewidth": 0,
             "ticks": ""
            },
            "type": "mesh3d"
           }
          ],
          "parcoords": [
           {
            "line": {
             "colorbar": {
              "outlinewidth": 0,
              "ticks": ""
             }
            },
            "type": "parcoords"
           }
          ],
          "pie": [
           {
            "automargin": true,
            "type": "pie"
           }
          ],
          "scatter": [
           {
            "fillpattern": {
             "fillmode": "overlay",
             "size": 10,
             "solidity": 0.2
            },
            "type": "scatter"
           }
          ],
          "scatter3d": [
           {
            "line": {
             "colorbar": {
              "outlinewidth": 0,
              "ticks": ""
             }
            },
            "marker": {
             "colorbar": {
              "outlinewidth": 0,
              "ticks": ""
             }
            },
            "type": "scatter3d"
           }
          ],
          "scattercarpet": [
           {
            "marker": {
             "colorbar": {
              "outlinewidth": 0,
              "ticks": ""
             }
            },
            "type": "scattercarpet"
           }
          ],
          "scattergeo": [
           {
            "marker": {
             "colorbar": {
              "outlinewidth": 0,
              "ticks": ""
             }
            },
            "type": "scattergeo"
           }
          ],
          "scattergl": [
           {
            "marker": {
             "colorbar": {
              "outlinewidth": 0,
              "ticks": ""
             }
            },
            "type": "scattergl"
           }
          ],
          "scattermapbox": [
           {
            "marker": {
             "colorbar": {
              "outlinewidth": 0,
              "ticks": ""
             }
            },
            "type": "scattermapbox"
           }
          ],
          "scatterpolar": [
           {
            "marker": {
             "colorbar": {
              "outlinewidth": 0,
              "ticks": ""
             }
            },
            "type": "scatterpolar"
           }
          ],
          "scatterpolargl": [
           {
            "marker": {
             "colorbar": {
              "outlinewidth": 0,
              "ticks": ""
             }
            },
            "type": "scatterpolargl"
           }
          ],
          "scatterternary": [
           {
            "marker": {
             "colorbar": {
              "outlinewidth": 0,
              "ticks": ""
             }
            },
            "type": "scatterternary"
           }
          ],
          "surface": [
           {
            "colorbar": {
             "outlinewidth": 0,
             "ticks": ""
            },
            "colorscale": [
             [
              0,
              "#0d0887"
             ],
             [
              0.1111111111111111,
              "#46039f"
             ],
             [
              0.2222222222222222,
              "#7201a8"
             ],
             [
              0.3333333333333333,
              "#9c179e"
             ],
             [
              0.4444444444444444,
              "#bd3786"
             ],
             [
              0.5555555555555556,
              "#d8576b"
             ],
             [
              0.6666666666666666,
              "#ed7953"
             ],
             [
              0.7777777777777778,
              "#fb9f3a"
             ],
             [
              0.8888888888888888,
              "#fdca26"
             ],
             [
              1,
              "#f0f921"
             ]
            ],
            "type": "surface"
           }
          ],
          "table": [
           {
            "cells": {
             "fill": {
              "color": "#EBF0F8"
             },
             "line": {
              "color": "white"
             }
            },
            "header": {
             "fill": {
              "color": "#C8D4E3"
             },
             "line": {
              "color": "white"
             }
            },
            "type": "table"
           }
          ]
         },
         "layout": {
          "annotationdefaults": {
           "arrowcolor": "#2a3f5f",
           "arrowhead": 0,
           "arrowwidth": 1
          },
          "autotypenumbers": "strict",
          "coloraxis": {
           "colorbar": {
            "outlinewidth": 0,
            "ticks": ""
           }
          },
          "colorscale": {
           "diverging": [
            [
             0,
             "#8e0152"
            ],
            [
             0.1,
             "#c51b7d"
            ],
            [
             0.2,
             "#de77ae"
            ],
            [
             0.3,
             "#f1b6da"
            ],
            [
             0.4,
             "#fde0ef"
            ],
            [
             0.5,
             "#f7f7f7"
            ],
            [
             0.6,
             "#e6f5d0"
            ],
            [
             0.7,
             "#b8e186"
            ],
            [
             0.8,
             "#7fbc41"
            ],
            [
             0.9,
             "#4d9221"
            ],
            [
             1,
             "#276419"
            ]
           ],
           "sequential": [
            [
             0,
             "#0d0887"
            ],
            [
             0.1111111111111111,
             "#46039f"
            ],
            [
             0.2222222222222222,
             "#7201a8"
            ],
            [
             0.3333333333333333,
             "#9c179e"
            ],
            [
             0.4444444444444444,
             "#bd3786"
            ],
            [
             0.5555555555555556,
             "#d8576b"
            ],
            [
             0.6666666666666666,
             "#ed7953"
            ],
            [
             0.7777777777777778,
             "#fb9f3a"
            ],
            [
             0.8888888888888888,
             "#fdca26"
            ],
            [
             1,
             "#f0f921"
            ]
           ],
           "sequentialminus": [
            [
             0,
             "#0d0887"
            ],
            [
             0.1111111111111111,
             "#46039f"
            ],
            [
             0.2222222222222222,
             "#7201a8"
            ],
            [
             0.3333333333333333,
             "#9c179e"
            ],
            [
             0.4444444444444444,
             "#bd3786"
            ],
            [
             0.5555555555555556,
             "#d8576b"
            ],
            [
             0.6666666666666666,
             "#ed7953"
            ],
            [
             0.7777777777777778,
             "#fb9f3a"
            ],
            [
             0.8888888888888888,
             "#fdca26"
            ],
            [
             1,
             "#f0f921"
            ]
           ]
          },
          "colorway": [
           "#636efa",
           "#EF553B",
           "#00cc96",
           "#ab63fa",
           "#FFA15A",
           "#19d3f3",
           "#FF6692",
           "#B6E880",
           "#FF97FF",
           "#FECB52"
          ],
          "font": {
           "color": "#2a3f5f"
          },
          "geo": {
           "bgcolor": "white",
           "lakecolor": "white",
           "landcolor": "#E5ECF6",
           "showlakes": true,
           "showland": true,
           "subunitcolor": "white"
          },
          "hoverlabel": {
           "align": "left"
          },
          "hovermode": "closest",
          "mapbox": {
           "style": "light"
          },
          "paper_bgcolor": "white",
          "plot_bgcolor": "#E5ECF6",
          "polar": {
           "angularaxis": {
            "gridcolor": "white",
            "linecolor": "white",
            "ticks": ""
           },
           "bgcolor": "#E5ECF6",
           "radialaxis": {
            "gridcolor": "white",
            "linecolor": "white",
            "ticks": ""
           }
          },
          "scene": {
           "xaxis": {
            "backgroundcolor": "#E5ECF6",
            "gridcolor": "white",
            "gridwidth": 2,
            "linecolor": "white",
            "showbackground": true,
            "ticks": "",
            "zerolinecolor": "white"
           },
           "yaxis": {
            "backgroundcolor": "#E5ECF6",
            "gridcolor": "white",
            "gridwidth": 2,
            "linecolor": "white",
            "showbackground": true,
            "ticks": "",
            "zerolinecolor": "white"
           },
           "zaxis": {
            "backgroundcolor": "#E5ECF6",
            "gridcolor": "white",
            "gridwidth": 2,
            "linecolor": "white",
            "showbackground": true,
            "ticks": "",
            "zerolinecolor": "white"
           }
          },
          "shapedefaults": {
           "line": {
            "color": "#2a3f5f"
           }
          },
          "ternary": {
           "aaxis": {
            "gridcolor": "white",
            "linecolor": "white",
            "ticks": ""
           },
           "baxis": {
            "gridcolor": "white",
            "linecolor": "white",
            "ticks": ""
           },
           "bgcolor": "#E5ECF6",
           "caxis": {
            "gridcolor": "white",
            "linecolor": "white",
            "ticks": ""
           }
          },
          "title": {
           "x": 0.05
          },
          "xaxis": {
           "automargin": true,
           "gridcolor": "white",
           "linecolor": "white",
           "ticks": "",
           "title": {
            "standoff": 15
           },
           "zerolinecolor": "white",
           "zerolinewidth": 2
          },
          "yaxis": {
           "automargin": true,
           "gridcolor": "white",
           "linecolor": "white",
           "ticks": "",
           "title": {
            "standoff": 15
           },
           "zerolinecolor": "white",
           "zerolinewidth": 2
          }
         }
        }
       }
      }
     },
     "metadata": {},
     "output_type": "display_data"
    }
   ],
   "source": [
    "import numpy as np\n",
    "import math\n",
    "\n",
    "N=10\n",
    "\n",
    "D0=120*np.ones(N)\n",
    "beta=math.radians(45)\n",
    "alpha=math.radians(1.5)\n",
    "x=np.linspace(0,1,N)*1852\n",
    "X=[]\n",
    "Y=[]\n",
    "Z=[]\n",
    "for beta in np.linspace(0,2*np.pi,9):\n",
    "    print(beta)\n",
    "    X.append(x*np.cos(beta))\n",
    "    Y.append(x*np.sin(beta))\n",
    "    Z.append(D0-x*(-np.tan(alpha)*np.cos(beta)))\n",
    "\n",
    "X=np.array(X).flatten()\n",
    "Y=np.array(Y).flatten()\n",
    "Z=np.array(Z).flatten()\n",
    "\n",
    "import plotly.graph_objects as go\n",
    "fig=go.Figure()\n",
    "\n",
    "fig.add_trace(go.Scatter3d(x=X,y=Y,z=Z))"
   ]
  },
  {
   "cell_type": "code",
   "execution_count": 29,
   "metadata": {},
   "outputs": [
    {
     "data": {
      "text/html": [
       "<div>\n",
       "<style scoped>\n",
       "    .dataframe tbody tr th:only-of-type {\n",
       "        vertical-align: middle;\n",
       "    }\n",
       "\n",
       "    .dataframe tbody tr th {\n",
       "        vertical-align: top;\n",
       "    }\n",
       "\n",
       "    .dataframe thead th {\n",
       "        text-align: right;\n",
       "    }\n",
       "</style>\n",
       "<table border=\"1\" class=\"dataframe\">\n",
       "  <thead>\n",
       "    <tr style=\"text-align: right;\">\n",
       "      <th></th>\n",
       "      <th>0.0</th>\n",
       "      <th>0.3</th>\n",
       "      <th>0.6</th>\n",
       "      <th>0.9</th>\n",
       "      <th>1.2</th>\n",
       "      <th>1.5</th>\n",
       "      <th>1.8</th>\n",
       "      <th>2.1</th>\n",
       "    </tr>\n",
       "  </thead>\n",
       "  <tbody>\n",
       "    <tr>\n",
       "      <th>0.0</th>\n",
       "      <td>415.692194</td>\n",
       "      <td>466.091055</td>\n",
       "      <td>516.489916</td>\n",
       "      <td>566.888777</td>\n",
       "      <td>617.287638</td>\n",
       "      <td>667.6865</td>\n",
       "      <td>718.085361</td>\n",
       "      <td>768.484222</td>\n",
       "    </tr>\n",
       "    <tr>\n",
       "      <th>45.0</th>\n",
       "      <td>416.191523</td>\n",
       "      <td>451.871707</td>\n",
       "      <td>487.551892</td>\n",
       "      <td>523.232076</td>\n",
       "      <td>558.91226</td>\n",
       "      <td>594.592444</td>\n",
       "      <td>630.272628</td>\n",
       "      <td>665.952812</td>\n",
       "    </tr>\n",
       "    <tr>\n",
       "      <th>90.0</th>\n",
       "      <td>416.69187</td>\n",
       "      <td>416.69187</td>\n",
       "      <td>416.69187</td>\n",
       "      <td>416.69187</td>\n",
       "      <td>416.69187</td>\n",
       "      <td>416.69187</td>\n",
       "      <td>416.69187</td>\n",
       "      <td>416.69187</td>\n",
       "    </tr>\n",
       "    <tr>\n",
       "      <th>135.0</th>\n",
       "      <td>416.191523</td>\n",
       "      <td>380.511339</td>\n",
       "      <td>344.831155</td>\n",
       "      <td>309.150971</td>\n",
       "      <td>273.470787</td>\n",
       "      <td>237.790603</td>\n",
       "      <td>202.110419</td>\n",
       "      <td>166.430235</td>\n",
       "    </tr>\n",
       "    <tr>\n",
       "      <th>180.0</th>\n",
       "      <td>415.692194</td>\n",
       "      <td>365.293333</td>\n",
       "      <td>314.894472</td>\n",
       "      <td>264.49561</td>\n",
       "      <td>214.096749</td>\n",
       "      <td>163.697888</td>\n",
       "      <td>113.299027</td>\n",
       "      <td>62.900166</td>\n",
       "    </tr>\n",
       "    <tr>\n",
       "      <th>225.0</th>\n",
       "      <td>416.191523</td>\n",
       "      <td>380.511339</td>\n",
       "      <td>344.831155</td>\n",
       "      <td>309.150971</td>\n",
       "      <td>273.470787</td>\n",
       "      <td>237.790603</td>\n",
       "      <td>202.110419</td>\n",
       "      <td>166.430235</td>\n",
       "    </tr>\n",
       "    <tr>\n",
       "      <th>270.0</th>\n",
       "      <td>416.69187</td>\n",
       "      <td>416.69187</td>\n",
       "      <td>416.69187</td>\n",
       "      <td>416.69187</td>\n",
       "      <td>416.69187</td>\n",
       "      <td>416.69187</td>\n",
       "      <td>416.69187</td>\n",
       "      <td>416.69187</td>\n",
       "    </tr>\n",
       "    <tr>\n",
       "      <th>315.0</th>\n",
       "      <td>416.191523</td>\n",
       "      <td>451.871707</td>\n",
       "      <td>487.551892</td>\n",
       "      <td>523.232076</td>\n",
       "      <td>558.91226</td>\n",
       "      <td>594.592444</td>\n",
       "      <td>630.272628</td>\n",
       "      <td>665.952812</td>\n",
       "    </tr>\n",
       "  </tbody>\n",
       "</table>\n",
       "</div>"
      ],
      "text/plain": [
       "              0.0         0.3         0.6         0.9         1.2         1.5  \\\n",
       "0.0    415.692194  466.091055  516.489916  566.888777  617.287638    667.6865   \n",
       "45.0   416.191523  451.871707  487.551892  523.232076   558.91226  594.592444   \n",
       "90.0    416.69187   416.69187   416.69187   416.69187   416.69187   416.69187   \n",
       "135.0  416.191523  380.511339  344.831155  309.150971  273.470787  237.790603   \n",
       "180.0  415.692194  365.293333  314.894472   264.49561  214.096749  163.697888   \n",
       "225.0  416.191523  380.511339  344.831155  309.150971  273.470787  237.790603   \n",
       "270.0   416.69187   416.69187   416.69187   416.69187   416.69187   416.69187   \n",
       "315.0  416.191523  451.871707  487.551892  523.232076   558.91226  594.592444   \n",
       "\n",
       "              1.8         2.1  \n",
       "0.0    718.085361  768.484222  \n",
       "45.0   630.272628  665.952812  \n",
       "90.0    416.69187   416.69187  \n",
       "135.0  202.110419  166.430235  \n",
       "180.0  113.299027   62.900166  \n",
       "225.0  202.110419  166.430235  \n",
       "270.0   416.69187   416.69187  \n",
       "315.0  630.272628  665.952812  "
      ]
     },
     "execution_count": 29,
     "metadata": {},
     "output_type": "execute_result"
    }
   ],
   "source": [
    "import numpy as np\n",
    "import math\n",
    "import pandas as pd\n",
    "\n",
    "DO=120\n",
    "\n",
    "beta_list=np.linspace(0,315,8)\n",
    "dis_list=np.linspace(0,2.1,8)\n",
    "theta = 120\n",
    "alpha0=np.radians(1.5)\n",
    "\n",
    "def caculate_width(depth,alpha):\n",
    "    width_left = math.sin(math.radians(theta / 2)) * depth / math.sin(math.radians(90 - theta / 2 - alpha))\n",
    "    width_right = math.sin(math.radians(theta / 2)) * depth / math.sin(math.radians(90 - theta / 2 + alpha))\n",
    "    width = width_left + width_right\n",
    "    # width = width * math.cos(math.radians(alpha))\n",
    "    return width\n",
    "\n",
    "def get_depth(beta,dis):\n",
    "    return DO+dis*np.tan(alpha0)*np.cos(np.radians(beta))\n",
    "    \n",
    "\n",
    "def get_width(beta,dis):\n",
    "    dis*=1852\n",
    "    D=get_depth(beta,dis)\n",
    "\n",
    "    alpha_1=np.arctan(np.tan(alpha0)*np.sin(np.radians(beta)))\n",
    "    alpha_1=np.degrees(alpha_1)\n",
    "    return caculate_width(D,alpha_1)\n",
    "    \n",
    "\n",
    "df=pd.DataFrame(index=beta_list,columns=dis_list)\n",
    "for dis in dis_list:\n",
    "    for beta in beta_list:\n",
    "        df[dis][beta]=get_width(beta,dis)\n",
    "    \n",
    "df\n"
   ]
  },
  {
   "cell_type": "code",
   "execution_count": 30,
   "metadata": {},
   "outputs": [],
   "source": [
    "df.to_csv(\"ques_two.csv\")"
   ]
  },
  {
   "cell_type": "code",
   "execution_count": null,
   "metadata": {},
   "outputs": [],
   "source": []
  }
 ],
 "metadata": {
  "kernelspec": {
   "display_name": "Python 3",
   "language": "python",
   "name": "python3"
  },
  "language_info": {
   "codemirror_mode": {
    "name": "ipython",
    "version": 3
   },
   "file_extension": ".py",
   "mimetype": "text/x-python",
   "name": "python",
   "nbconvert_exporter": "python",
   "pygments_lexer": "ipython3",
   "version": "3.10.5"
  },
  "orig_nbformat": 4
 },
 "nbformat": 4,
 "nbformat_minor": 2
}
