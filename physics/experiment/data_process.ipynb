{
 "cells": [
  {
   "cell_type": "code",
   "execution_count": 2,
   "metadata": {},
   "outputs": [
    {
     "data": {
      "text/html": [
       "<div>\n",
       "<style scoped>\n",
       "    .dataframe tbody tr th:only-of-type {\n",
       "        vertical-align: middle;\n",
       "    }\n",
       "\n",
       "    .dataframe tbody tr th {\n",
       "        vertical-align: top;\n",
       "    }\n",
       "\n",
       "    .dataframe thead th {\n",
       "        text-align: right;\n",
       "    }\n",
       "</style>\n",
       "<table border=\"1\" class=\"dataframe\">\n",
       "  <thead>\n",
       "    <tr style=\"text-align: right;\">\n",
       "      <th></th>\n",
       "      <th>DB</th>\n",
       "      <th>UL</th>\n",
       "      <th>UB</th>\n",
       "      <th>UH</th>\n",
       "      <th>UD</th>\n",
       "    </tr>\n",
       "  </thead>\n",
       "  <tbody>\n",
       "    <tr>\n",
       "      <th>米尺</th>\n",
       "      <td>0.2000000000</td>\n",
       "      <td>0.0000020467</td>\n",
       "      <td>0.0000279356</td>\n",
       "      <td>0.0101210887</td>\n",
       "      <td>0.0000043204</td>\n",
       "    </tr>\n",
       "    <tr>\n",
       "      <th>游标</th>\n",
       "      <td>0.0200000000</td>\n",
       "      <td>0.0000000205</td>\n",
       "      <td>0.0000002794</td>\n",
       "      <td>0.0001012109</td>\n",
       "      <td>0.0000000432</td>\n",
       "    </tr>\n",
       "    <tr>\n",
       "      <th>千分</th>\n",
       "      <td>0.0040000000</td>\n",
       "      <td>0.0000000008</td>\n",
       "      <td>0.0000000112</td>\n",
       "      <td>0.0000040484</td>\n",
       "      <td>0.0000000017</td>\n",
       "    </tr>\n",
       "  </tbody>\n",
       "</table>\n",
       "</div>"
      ],
      "text/plain": [
       "             DB           UL           UB           UH           UD\n",
       "米尺 0.2000000000 0.0000020467 0.0000279356 0.0101210887 0.0000043204\n",
       "游标 0.0200000000 0.0000000205 0.0000002794 0.0001012109 0.0000000432\n",
       "千分 0.0040000000 0.0000000008 0.0000000112 0.0000040484 0.0000000017"
      ]
     },
     "execution_count": 2,
     "metadata": {},
     "output_type": "execute_result"
    }
   ],
   "source": [
    "import numpy as np\n",
    "import pandas as pd\n",
    "import math\n",
    "\n",
    "pd.set_option('display.float_format', lambda x: '%.10f' % x)\n",
    "L=139.8\n",
    "B=37.84\n",
    "H=1.988\n",
    "D=7\n",
    "n=5#圆孔数量\n",
    "\n",
    "\n",
    "D1=pd.DataFrame(columns=[\n",
    "    \"DB\",\n",
    "    'UL',\n",
    "    \"UB\",\n",
    "    \"UH\",\n",
    "    'UD'\n",
    "    ]\n",
    ",index=['米尺', \"游标\",\"千分\"])\n",
    "D1.DB=[0.2,0.02,0.004]\n",
    "D1.UL=(D1.DB/L)**2\n",
    "D1.UB=(D1.DB/B)**2\n",
    "D1.UH=(D1.DB/H)**2\n",
    "D1.UD=((n*math.pi*D*D1.DB)/(2*L*B))**2\n",
    "D1"
   ]
  },
  {
   "cell_type": "code",
   "execution_count": 3,
   "metadata": {},
   "outputs": [
    {
     "data": {
      "text/plain": [
       "米尺   0.1154700538\n",
       "游标   0.0115470054\n",
       "千分   0.0023094011\n",
       "Name: DB, dtype: float64"
      ]
     },
     "execution_count": 3,
     "metadata": {},
     "output_type": "execute_result"
    }
   ],
   "source": [
    "D1.DB/math.sqrt(3)\n",
    "   "
   ]
  },
  {
   "cell_type": "code",
   "execution_count": 4,
   "metadata": {},
   "outputs": [
    {
     "data": {
      "text/plain": [
       "10134.04758653564"
      ]
     },
     "execution_count": 4,
     "metadata": {},
     "output_type": "execute_result"
    }
   ],
   "source": [
    "V=L*B*H-(n*math.pi*(D**2)*H)/4\n",
    "V"
   ]
  },
  {
   "cell_type": "code",
   "execution_count": 10,
   "metadata": {},
   "outputs": [
    {
     "data": {
      "text/plain": [
       "19.254690414417716"
      ]
     },
     "execution_count": 10,
     "metadata": {},
     "output_type": "execute_result"
    }
   ],
   "source": [
    "0.0019*V"
   ]
  },
  {
   "cell_type": "code",
   "execution_count": 5,
   "metadata": {},
   "outputs": [
    {
     "data": {
      "text/html": [
       "<div>\n",
       "<style scoped>\n",
       "    .dataframe tbody tr th:only-of-type {\n",
       "        vertical-align: middle;\n",
       "    }\n",
       "\n",
       "    .dataframe tbody tr th {\n",
       "        vertical-align: top;\n",
       "    }\n",
       "\n",
       "    .dataframe thead th {\n",
       "        text-align: right;\n",
       "    }\n",
       "</style>\n",
       "<table border=\"1\" class=\"dataframe\">\n",
       "  <thead>\n",
       "    <tr style=\"text-align: right;\">\n",
       "      <th></th>\n",
       "      <th>DB</th>\n",
       "      <th>UL</th>\n",
       "      <th>UB</th>\n",
       "      <th>UD</th>\n",
       "    </tr>\n",
       "  </thead>\n",
       "  <tbody>\n",
       "    <tr>\n",
       "      <th>米尺</th>\n",
       "      <td>0.2000000000000</td>\n",
       "      <td>0.0000006944444</td>\n",
       "      <td>0.0000013840830</td>\n",
       "      <td>0.0007111111111</td>\n",
       "    </tr>\n",
       "    <tr>\n",
       "      <th>游标</th>\n",
       "      <td>0.0200000000000</td>\n",
       "      <td>0.0000000069444</td>\n",
       "      <td>0.0000000138408</td>\n",
       "      <td>0.0000071111111</td>\n",
       "    </tr>\n",
       "    <tr>\n",
       "      <th>千分</th>\n",
       "      <td>0.0040000000000</td>\n",
       "      <td>0.0000000002778</td>\n",
       "      <td>0.0000000005536</td>\n",
       "      <td>0.0000002844444</td>\n",
       "    </tr>\n",
       "  </tbody>\n",
       "</table>\n",
       "</div>"
      ],
      "text/plain": [
       "                DB              UL              UB              UD\n",
       "米尺 0.2000000000000 0.0000006944444 0.0000013840830 0.0007111111111\n",
       "游标 0.0200000000000 0.0000000069444 0.0000000138408 0.0000071111111\n",
       "千分 0.0040000000000 0.0000000002778 0.0000000005536 0.0000002844444"
      ]
     },
     "execution_count": 5,
     "metadata": {},
     "output_type": "execute_result"
    }
   ],
   "source": [
    "L=240\n",
    "B=170\n",
    "D=7.5\n",
    "pd.set_option('display.float_format', lambda x: '%.13f' % x)\n",
    "\n",
    "D2=pd.DataFrame(columns=[\n",
    "    \"DB\",\n",
    "    'UL',\n",
    "    \"UB\",\n",
    "    \"UD\",\n",
    "    ]\n",
    ",index=['米尺', \"游标\",\"千分\"])\n",
    "D2.DB=[0.2,0.02,0.004]\n",
    "D2.UL=(D2.DB/L)**2\n",
    "D2.UB=(D2.DB/B)**2\n",
    "D2.UD=(D2.DB/D)**2\n",
    "D2"
   ]
  },
  {
   "cell_type": "code",
   "execution_count": 6,
   "metadata": {},
   "outputs": [
    {
     "data": {
      "text/plain": [
       "306000.0"
      ]
     },
     "execution_count": 6,
     "metadata": {},
     "output_type": "execute_result"
    }
   ],
   "source": [
    "7.5*170*240"
   ]
  },
  {
   "cell_type": "code",
   "execution_count": 7,
   "metadata": {},
   "outputs": [
    {
     "data": {
      "text/plain": [
       "0.11547005383792516"
      ]
     },
     "execution_count": 7,
     "metadata": {},
     "output_type": "execute_result"
    }
   ],
   "source": [
    "0.2/math.sqrt(3)"
   ]
  },
  {
   "cell_type": "code",
   "execution_count": 8,
   "metadata": {},
   "outputs": [
    {
     "data": {
      "text/plain": [
       "0.0008875005979099561"
      ]
     },
     "execution_count": 8,
     "metadata": {},
     "output_type": "execute_result"
    }
   ],
   "source": [
    "UB=0.2/math.sqrt(3)\n",
    "UD=0.004/math.sqrt(3)\n",
    "math.sqrt((UB/L)**2+(UB/B)**2+(UD/D)**2)"
   ]
  },
  {
   "cell_type": "code",
   "execution_count": 9,
   "metadata": {},
   "outputs": [
    {
     "data": {
      "text/plain": [
       "2.7234"
      ]
     },
     "execution_count": 9,
     "metadata": {},
     "output_type": "execute_result"
    }
   ],
   "source": [
    "0.00089*3060"
   ]
  },
  {
   "cell_type": "code",
   "execution_count": null,
   "metadata": {},
   "outputs": [],
   "source": []
  }
 ],
 "metadata": {
  "kernelspec": {
   "display_name": "Python 3.10.5 64-bit",
   "language": "python",
   "name": "python3"
  },
  "language_info": {
   "codemirror_mode": {
    "name": "ipython",
    "version": 3
   },
   "file_extension": ".py",
   "mimetype": "text/x-python",
   "name": "python",
   "nbconvert_exporter": "python",
   "pygments_lexer": "ipython3",
   "version": "3.10.5"
  },
  "orig_nbformat": 4,
  "vscode": {
   "interpreter": {
    "hash": "09f4728b05d69e74b0ea9aff0073f9d58b230df2a643ed862911c4fa3d476aa5"
   }
  }
 },
 "nbformat": 4,
 "nbformat_minor": 2
}
