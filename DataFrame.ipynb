{
 "cells": [
  {
   "cell_type": "code",
   "execution_count": 1,
   "metadata": {},
   "outputs": [
    {
     "data": {
      "text/html": [
       "<div>\n",
       "<style scoped>\n",
       "    .dataframe tbody tr th:only-of-type {\n",
       "        vertical-align: middle;\n",
       "    }\n",
       "\n",
       "    .dataframe tbody tr th {\n",
       "        vertical-align: top;\n",
       "    }\n",
       "\n",
       "    .dataframe thead th {\n",
       "        text-align: right;\n",
       "    }\n",
       "</style>\n",
       "<table border=\"1\" class=\"dataframe\">\n",
       "  <thead>\n",
       "    <tr style=\"text-align: right;\">\n",
       "      <th></th>\n",
       "      <th>0</th>\n",
       "      <th>1</th>\n",
       "      <th>2</th>\n",
       "      <th>3</th>\n",
       "      <th>4</th>\n",
       "    </tr>\n",
       "  </thead>\n",
       "  <tbody>\n",
       "    <tr>\n",
       "      <th>0</th>\n",
       "      <td>0</td>\n",
       "      <td>1</td>\n",
       "      <td>2</td>\n",
       "      <td>3</td>\n",
       "      <td>4</td>\n",
       "    </tr>\n",
       "    <tr>\n",
       "      <th>1</th>\n",
       "      <td>5</td>\n",
       "      <td>6</td>\n",
       "      <td>7</td>\n",
       "      <td>8</td>\n",
       "      <td>9</td>\n",
       "    </tr>\n",
       "  </tbody>\n",
       "</table>\n",
       "</div>"
      ],
      "text/plain": [
       "   0  1  2  3  4\n",
       "0  0  1  2  3  4\n",
       "1  5  6  7  8  9"
      ]
     },
     "execution_count": 1,
     "metadata": {},
     "output_type": "execute_result"
    }
   ],
   "source": [
    "import numpy as np\n",
    "import pandas as pd \n",
    "D=pd.DataFrame(np.arange(10).reshape(2,5))\n",
    "D"
   ]
  },
  {
   "cell_type": "code",
   "execution_count": 2,
   "metadata": {},
   "outputs": [
    {
     "data": {
      "text/html": [
       "<div>\n",
       "<style scoped>\n",
       "    .dataframe tbody tr th:only-of-type {\n",
       "        vertical-align: middle;\n",
       "    }\n",
       "\n",
       "    .dataframe tbody tr th {\n",
       "        vertical-align: top;\n",
       "    }\n",
       "\n",
       "    .dataframe thead th {\n",
       "        text-align: right;\n",
       "    }\n",
       "</style>\n",
       "<table border=\"1\" class=\"dataframe\">\n",
       "  <thead>\n",
       "    <tr style=\"text-align: right;\">\n",
       "      <th></th>\n",
       "      <th>one</th>\n",
       "      <th>two</th>\n",
       "    </tr>\n",
       "  </thead>\n",
       "  <tbody>\n",
       "    <tr>\n",
       "      <th>a</th>\n",
       "      <td>1</td>\n",
       "      <td>5.0</td>\n",
       "    </tr>\n",
       "    <tr>\n",
       "      <th>b</th>\n",
       "      <td>2</td>\n",
       "      <td>6.0</td>\n",
       "    </tr>\n",
       "    <tr>\n",
       "      <th>c</th>\n",
       "      <td>3</td>\n",
       "      <td>7.0</td>\n",
       "    </tr>\n",
       "    <tr>\n",
       "      <th>d</th>\n",
       "      <td>4</td>\n",
       "      <td>NaN</td>\n",
       "    </tr>\n",
       "  </tbody>\n",
       "</table>\n",
       "</div>"
      ],
      "text/plain": [
       "   one  two\n",
       "a    1  5.0\n",
       "b    2  6.0\n",
       "c    3  7.0\n",
       "d    4  NaN"
      ]
     },
     "execution_count": 2,
     "metadata": {},
     "output_type": "execute_result"
    }
   ],
   "source": [
    "dt={\n",
    "    'one':pd.Series([1,2,3,4],index=['a','b','c','d']),\n",
    "    'two':pd.Series([5,6,7],index=['a','b','c'])}\n",
    "C=pd.DataFrame(dt)\n",
    "C"
   ]
  },
  {
   "cell_type": "code",
   "execution_count": 3,
   "metadata": {},
   "outputs": [
    {
     "data": {
      "text/html": [
       "<div>\n",
       "<style scoped>\n",
       "    .dataframe tbody tr th:only-of-type {\n",
       "        vertical-align: middle;\n",
       "    }\n",
       "\n",
       "    .dataframe tbody tr th {\n",
       "        vertical-align: top;\n",
       "    }\n",
       "\n",
       "    .dataframe thead th {\n",
       "        text-align: right;\n",
       "    }\n",
       "</style>\n",
       "<table border=\"1\" class=\"dataframe\">\n",
       "  <thead>\n",
       "    <tr style=\"text-align: right;\">\n",
       "      <th></th>\n",
       "      <th>three</th>\n",
       "      <th>four</th>\n",
       "    </tr>\n",
       "  </thead>\n",
       "  <tbody>\n",
       "    <tr>\n",
       "      <th>a</th>\n",
       "      <td>1</td>\n",
       "      <td>5</td>\n",
       "    </tr>\n",
       "    <tr>\n",
       "      <th>b</th>\n",
       "      <td>2</td>\n",
       "      <td>6</td>\n",
       "    </tr>\n",
       "    <tr>\n",
       "      <th>c</th>\n",
       "      <td>3</td>\n",
       "      <td>7</td>\n",
       "    </tr>\n",
       "    <tr>\n",
       "      <th>d</th>\n",
       "      <td>4</td>\n",
       "      <td>8</td>\n",
       "    </tr>\n",
       "  </tbody>\n",
       "</table>\n",
       "</div>"
      ],
      "text/plain": [
       "   three  four\n",
       "a      1     5\n",
       "b      2     6\n",
       "c      3     7\n",
       "d      4     8"
      ]
     },
     "execution_count": 3,
     "metadata": {},
     "output_type": "execute_result"
    }
   ],
   "source": [
    "dl={\n",
    "    'three':[1,2,3,4],\n",
    "    'four':[5,6,7,8]\n",
    "}\n",
    "A=pd.DataFrame(dl,index=['a','b','c','d'])\n",
    "# A.set_axis([0,1,2,3],axis=0)\n",
    "A#不会自动补齐NaN"
   ]
  },
  {
   "cell_type": "code",
   "execution_count": 4,
   "metadata": {},
   "outputs": [
    {
     "data": {
      "text/plain": [
       "array([[1, 5],\n",
       "       [2, 6],\n",
       "       [3, 7],\n",
       "       [4, 8]], dtype=int64)"
      ]
     },
     "execution_count": 4,
     "metadata": {},
     "output_type": "execute_result"
    }
   ],
   "source": [
    "A.values"
   ]
  },
  {
   "cell_type": "code",
   "execution_count": 5,
   "metadata": {},
   "outputs": [
    {
     "data": {
      "text/plain": [
       "Index(['three', 'four'], dtype='object')"
      ]
     },
     "execution_count": 5,
     "metadata": {},
     "output_type": "execute_result"
    }
   ],
   "source": [
    "A.columns"
   ]
  },
  {
   "cell_type": "code",
   "execution_count": 6,
   "metadata": {},
   "outputs": [
    {
     "data": {
      "text/plain": [
       "Index(['a', 'b', 'c', 'd'], dtype='object')"
      ]
     },
     "execution_count": 6,
     "metadata": {},
     "output_type": "execute_result"
    }
   ],
   "source": [
    "A.index"
   ]
  },
  {
   "cell_type": "code",
   "execution_count": 7,
   "metadata": {},
   "outputs": [
    {
     "data": {
      "text/plain": [
       "a    1\n",
       "b    2\n",
       "c    3\n",
       "d    4\n",
       "Name: three, dtype: int64"
      ]
     },
     "execution_count": 7,
     "metadata": {},
     "output_type": "execute_result"
    }
   ],
   "source": [
    "A['three']"
   ]
  },
  {
   "cell_type": "code",
   "execution_count": 8,
   "metadata": {},
   "outputs": [
    {
     "data": {
      "text/plain": [
       "three    2\n",
       "four     6\n",
       "Name: b, dtype: int64"
      ]
     },
     "execution_count": 8,
     "metadata": {},
     "output_type": "execute_result"
    }
   ],
   "source": [
    "A.loc['b']#老版本里的ix方法"
   ]
  },
  {
   "cell_type": "code",
   "execution_count": 9,
   "metadata": {},
   "outputs": [
    {
     "data": {
      "text/html": [
       "<div>\n",
       "<style scoped>\n",
       "    .dataframe tbody tr th:only-of-type {\n",
       "        vertical-align: middle;\n",
       "    }\n",
       "\n",
       "    .dataframe tbody tr th {\n",
       "        vertical-align: top;\n",
       "    }\n",
       "\n",
       "    .dataframe thead th {\n",
       "        text-align: right;\n",
       "    }\n",
       "</style>\n",
       "<table border=\"1\" class=\"dataframe\">\n",
       "  <thead>\n",
       "    <tr style=\"text-align: right;\">\n",
       "      <th></th>\n",
       "      <th>three</th>\n",
       "      <th>four</th>\n",
       "    </tr>\n",
       "  </thead>\n",
       "  <tbody>\n",
       "    <tr>\n",
       "      <th>a</th>\n",
       "      <td>1</td>\n",
       "      <td>5</td>\n",
       "    </tr>\n",
       "    <tr>\n",
       "      <th>c</th>\n",
       "      <td>3</td>\n",
       "      <td>7</td>\n",
       "    </tr>\n",
       "    <tr>\n",
       "      <th>b</th>\n",
       "      <td>2</td>\n",
       "      <td>6</td>\n",
       "    </tr>\n",
       "    <tr>\n",
       "      <th>d</th>\n",
       "      <td>4</td>\n",
       "      <td>8</td>\n",
       "    </tr>\n",
       "  </tbody>\n",
       "</table>\n",
       "</div>"
      ],
      "text/plain": [
       "   three  four\n",
       "a      1     5\n",
       "c      3     7\n",
       "b      2     6\n",
       "d      4     8"
      ]
     },
     "execution_count": 9,
     "metadata": {},
     "output_type": "execute_result"
    }
   ],
   "source": [
    "A=A.reindex(['a', 'c', 'b', 'd'])\n",
    "A"
   ]
  },
  {
   "cell_type": "code",
   "execution_count": 10,
   "metadata": {},
   "outputs": [
    {
     "data": {
      "text/html": [
       "<div>\n",
       "<style scoped>\n",
       "    .dataframe tbody tr th:only-of-type {\n",
       "        vertical-align: middle;\n",
       "    }\n",
       "\n",
       "    .dataframe tbody tr th {\n",
       "        vertical-align: top;\n",
       "    }\n",
       "\n",
       "    .dataframe thead th {\n",
       "        text-align: right;\n",
       "    }\n",
       "</style>\n",
       "<table border=\"1\" class=\"dataframe\">\n",
       "  <thead>\n",
       "    <tr style=\"text-align: right;\">\n",
       "      <th></th>\n",
       "      <th>four</th>\n",
       "      <th>three</th>\n",
       "      <th>five</th>\n",
       "    </tr>\n",
       "  </thead>\n",
       "  <tbody>\n",
       "    <tr>\n",
       "      <th>a</th>\n",
       "      <td>5</td>\n",
       "      <td>1</td>\n",
       "      <td>NaN</td>\n",
       "    </tr>\n",
       "    <tr>\n",
       "      <th>c</th>\n",
       "      <td>7</td>\n",
       "      <td>3</td>\n",
       "      <td>NaN</td>\n",
       "    </tr>\n",
       "    <tr>\n",
       "      <th>b</th>\n",
       "      <td>6</td>\n",
       "      <td>2</td>\n",
       "      <td>NaN</td>\n",
       "    </tr>\n",
       "    <tr>\n",
       "      <th>d</th>\n",
       "      <td>8</td>\n",
       "      <td>4</td>\n",
       "      <td>NaN</td>\n",
       "    </tr>\n",
       "  </tbody>\n",
       "</table>\n",
       "</div>"
      ],
      "text/plain": [
       "   four  three  five\n",
       "a     5      1   NaN\n",
       "c     7      3   NaN\n",
       "b     6      2   NaN\n",
       "d     8      4   NaN"
      ]
     },
     "execution_count": 10,
     "metadata": {},
     "output_type": "execute_result"
    }
   ],
   "source": [
    "A=A.reindex(columns=['four','three','five'])\n",
    "A"
   ]
  },
  {
   "cell_type": "code",
   "execution_count": 11,
   "metadata": {},
   "outputs": [
    {
     "data": {
      "text/html": [
       "<div>\n",
       "<style scoped>\n",
       "    .dataframe tbody tr th:only-of-type {\n",
       "        vertical-align: middle;\n",
       "    }\n",
       "\n",
       "    .dataframe tbody tr th {\n",
       "        vertical-align: top;\n",
       "    }\n",
       "\n",
       "    .dataframe thead th {\n",
       "        text-align: right;\n",
       "    }\n",
       "</style>\n",
       "<table border=\"1\" class=\"dataframe\">\n",
       "  <thead>\n",
       "    <tr style=\"text-align: right;\">\n",
       "      <th></th>\n",
       "      <th>four</th>\n",
       "      <th>five</th>\n",
       "    </tr>\n",
       "  </thead>\n",
       "  <tbody>\n",
       "    <tr>\n",
       "      <th>a</th>\n",
       "      <td>5</td>\n",
       "      <td>NaN</td>\n",
       "    </tr>\n",
       "    <tr>\n",
       "      <th>c</th>\n",
       "      <td>7</td>\n",
       "      <td>NaN</td>\n",
       "    </tr>\n",
       "    <tr>\n",
       "      <th>b</th>\n",
       "      <td>6</td>\n",
       "      <td>NaN</td>\n",
       "    </tr>\n",
       "    <tr>\n",
       "      <th>d</th>\n",
       "      <td>8</td>\n",
       "      <td>NaN</td>\n",
       "    </tr>\n",
       "    <tr>\n",
       "      <th>e</th>\n",
       "      <td>10</td>\n",
       "      <td>10.0</td>\n",
       "    </tr>\n",
       "  </tbody>\n",
       "</table>\n",
       "</div>"
      ],
      "text/plain": [
       "   four  five\n",
       "a     5   NaN\n",
       "c     7   NaN\n",
       "b     6   NaN\n",
       "d     8   NaN\n",
       "e    10  10.0"
      ]
     },
     "execution_count": 11,
     "metadata": {},
     "output_type": "execute_result"
    }
   ],
   "source": [
    "newi=A.index.insert(4,'e')\n",
    "newc=A.columns.delete(1)\n",
    "A=A.reindex(index=newi,columns=newc,fill_value=10)\n",
    "A"
   ]
  },
  {
   "cell_type": "code",
   "execution_count": 12,
   "metadata": {},
   "outputs": [
    {
     "data": {
      "text/html": [
       "<div>\n",
       "<style scoped>\n",
       "    .dataframe tbody tr th:only-of-type {\n",
       "        vertical-align: middle;\n",
       "    }\n",
       "\n",
       "    .dataframe tbody tr th {\n",
       "        vertical-align: top;\n",
       "    }\n",
       "\n",
       "    .dataframe thead th {\n",
       "        text-align: right;\n",
       "    }\n",
       "</style>\n",
       "<table border=\"1\" class=\"dataframe\">\n",
       "  <thead>\n",
       "    <tr style=\"text-align: right;\">\n",
       "      <th></th>\n",
       "      <th>four</th>\n",
       "      <th>five</th>\n",
       "    </tr>\n",
       "  </thead>\n",
       "  <tbody>\n",
       "    <tr>\n",
       "      <th>a</th>\n",
       "      <td>5</td>\n",
       "      <td>NaN</td>\n",
       "    </tr>\n",
       "    <tr>\n",
       "      <th>b</th>\n",
       "      <td>6</td>\n",
       "      <td>NaN</td>\n",
       "    </tr>\n",
       "    <tr>\n",
       "      <th>d</th>\n",
       "      <td>8</td>\n",
       "      <td>NaN</td>\n",
       "    </tr>\n",
       "    <tr>\n",
       "      <th>e</th>\n",
       "      <td>10</td>\n",
       "      <td>10.0</td>\n",
       "    </tr>\n",
       "  </tbody>\n",
       "</table>\n",
       "</div>"
      ],
      "text/plain": [
       "   four  five\n",
       "a     5   NaN\n",
       "b     6   NaN\n",
       "d     8   NaN\n",
       "e    10  10.0"
      ]
     },
     "execution_count": 12,
     "metadata": {},
     "output_type": "execute_result"
    }
   ],
   "source": [
    "A.drop('c')"
   ]
  },
  {
   "cell_type": "code",
   "execution_count": 13,
   "metadata": {},
   "outputs": [
    {
     "data": {
      "text/html": [
       "<div>\n",
       "<style scoped>\n",
       "    .dataframe tbody tr th:only-of-type {\n",
       "        vertical-align: middle;\n",
       "    }\n",
       "\n",
       "    .dataframe tbody tr th {\n",
       "        vertical-align: top;\n",
       "    }\n",
       "\n",
       "    .dataframe thead th {\n",
       "        text-align: right;\n",
       "    }\n",
       "</style>\n",
       "<table border=\"1\" class=\"dataframe\">\n",
       "  <thead>\n",
       "    <tr style=\"text-align: right;\">\n",
       "      <th></th>\n",
       "      <th>five</th>\n",
       "    </tr>\n",
       "  </thead>\n",
       "  <tbody>\n",
       "    <tr>\n",
       "      <th>a</th>\n",
       "      <td>NaN</td>\n",
       "    </tr>\n",
       "    <tr>\n",
       "      <th>c</th>\n",
       "      <td>NaN</td>\n",
       "    </tr>\n",
       "    <tr>\n",
       "      <th>b</th>\n",
       "      <td>NaN</td>\n",
       "    </tr>\n",
       "    <tr>\n",
       "      <th>d</th>\n",
       "      <td>NaN</td>\n",
       "    </tr>\n",
       "    <tr>\n",
       "      <th>e</th>\n",
       "      <td>10.0</td>\n",
       "    </tr>\n",
       "  </tbody>\n",
       "</table>\n",
       "</div>"
      ],
      "text/plain": [
       "   five\n",
       "a   NaN\n",
       "c   NaN\n",
       "b   NaN\n",
       "d   NaN\n",
       "e  10.0"
      ]
     },
     "execution_count": 13,
     "metadata": {},
     "output_type": "execute_result"
    }
   ],
   "source": [
    "A.drop('four',axis=1)"
   ]
  },
  {
   "cell_type": "code",
   "execution_count": 14,
   "metadata": {},
   "outputs": [
    {
     "data": {
      "text/html": [
       "<div>\n",
       "<style scoped>\n",
       "    .dataframe tbody tr th:only-of-type {\n",
       "        vertical-align: middle;\n",
       "    }\n",
       "\n",
       "    .dataframe tbody tr th {\n",
       "        vertical-align: top;\n",
       "    }\n",
       "\n",
       "    .dataframe thead th {\n",
       "        text-align: right;\n",
       "    }\n",
       "</style>\n",
       "<table border=\"1\" class=\"dataframe\">\n",
       "  <thead>\n",
       "    <tr style=\"text-align: right;\">\n",
       "      <th></th>\n",
       "      <th>A</th>\n",
       "      <th>B</th>\n",
       "      <th>C</th>\n",
       "    </tr>\n",
       "  </thead>\n",
       "  <tbody>\n",
       "    <tr>\n",
       "      <th>0</th>\n",
       "      <td>1.0</td>\n",
       "      <td>NaN</td>\n",
       "      <td>1</td>\n",
       "    </tr>\n",
       "    <tr>\n",
       "      <th>1</th>\n",
       "      <td>2.0</td>\n",
       "      <td>2.0</td>\n",
       "      <td>2</td>\n",
       "    </tr>\n",
       "    <tr>\n",
       "      <th>3</th>\n",
       "      <td>4.0</td>\n",
       "      <td>4.0</td>\n",
       "      <td>4</td>\n",
       "    </tr>\n",
       "  </tbody>\n",
       "</table>\n",
       "</div>"
      ],
      "text/plain": [
       "     A    B  C\n",
       "0  1.0  NaN  1\n",
       "1  2.0  2.0  2\n",
       "3  4.0  4.0  4"
      ]
     },
     "execution_count": 14,
     "metadata": {},
     "output_type": "execute_result"
    }
   ],
   "source": [
    "import math\n",
    "data = {'A': [1, 2, math.nan, 4],\n",
    "        'B': [math.nan, 2, 3, 4],\n",
    "        'C': [1, 2, 3, 4]}\n",
    "df = pd.DataFrame(data)\n",
    "df[~df['A'].apply(math.isnan)]"
   ]
  },
  {
   "cell_type": "code",
   "execution_count": 47,
   "metadata": {},
   "outputs": [
    {
     "data": {
      "text/plain": [
       "('rel', 'm', '014')"
      ]
     },
     "execution_count": 47,
     "metadata": {},
     "output_type": "execute_result"
    }
   ],
   "source": [
    "import re\n",
    "s=\"newrel_m014\"\n",
    "match=re.compile(r\"new_?(\\w+)_([fm])(\\d+)\")\n",
    "res=match.findall(s)[0]\n",
    "f'{res}123'"
   ]
  },
  {
   "cell_type": "code",
   "execution_count": 29,
   "metadata": {},
   "outputs": [
    {
     "data": {
      "text/plain": [
       "0    1\n",
       "1    3\n",
       "dtype: int64"
      ]
     },
     "execution_count": 29,
     "metadata": {},
     "output_type": "execute_result"
    }
   ],
   "source": [
    "s=pd.Series([1,3,2])\n",
    "mask=[True,True,True]\n",
    "mask\n",
    "s[:2]\n",
    "# s[mask]\n",
    "# s,s[0]"
   ]
  },
  {
   "cell_type": "code",
   "execution_count": 56,
   "metadata": {},
   "outputs": [
    {
     "data": {
      "text/plain": [
       "3"
      ]
     },
     "execution_count": 56,
     "metadata": {},
     "output_type": "execute_result"
    }
   ],
   "source": [
    "dict={\"A\":2}\n",
    "s=[\"A\",\"A\"]\n",
    "# for c in s:\n",
    "dict[\"A\"]\n",
    "dict[\"A\"]+=1\n",
    "# dict[\"A\"]=dict[\"A\"]+1\n",
    "dict[\"A\"]"
   ]
  },
  {
   "cell_type": "code",
   "execution_count": 65,
   "metadata": {},
   "outputs": [
    {
     "data": {
      "text/plain": [
       "'123|22232|dfdsf'"
      ]
     },
     "execution_count": 65,
     "metadata": {},
     "output_type": "execute_result"
    }
   ],
   "source": [
    "s=\"123. 22232? dfdsf\"\n",
    "\n",
    "s=\"|\".join(s.split(\". \"))\n",
    "\"|\".join(s.split(\"? \"))"
   ]
  },
  {
   "cell_type": "code",
   "execution_count": 17,
   "metadata": {},
   "outputs": [
    {
     "name": "stdout",
     "output_type": "stream",
     "text": [
      "Han draws his laser pistol and pops off a couple of shots\n",
      "False\n",
      "which force the stormtroopers to dive for safety. The\n",
      "False\n",
      "pirateship engines whine as Han hits the release button that\n",
      "False\n",
      "slams the overhead entry shut.\n",
      "False\n",
      "\n",
      "False\n",
      "INT. MILLENNIUM FALCON\n",
      "True\n",
      "\n",
      "False\n",
      "HAN\n",
      "False\n",
      "Chewie, get us out of here!\n",
      "False\n",
      "\n",
      "False\n",
      "The group straps in for take off.\n",
      "False\n",
      "\n",
      "False\n",
      "THREEPIO\n",
      "False\n",
      "Oh, my. I'd forgotten how much I\n",
      "False\n",
      "hate space travel.\n",
      "False\n",
      "\n",
      "False\n",
      "EXT. TATOOINE - MOS EISLEY - STREETS\n",
      "True\n",
      "\n",
      "False\n",
      "The half-dozen stormtroopers at a check point hear the general\n",
      "False\n",
      "alarm and look to the sky as the huge starship rises above\n",
      "False\n",
      "the dingy slum dwellings and quickly disappears into the\n",
      "False\n",
      "morning sky.\n",
      "False\n",
      "\n",
      "False\n",
      "INT. MILLENNIUM FALCON - COCKPIT\n",
      "True\n",
      "\n",
      "False\n",
      "Han climbs into the pilot's chair next to Chewbacca, who\n",
      "False\n",
      "chatters away as he points to something on the radar scope.\n",
      "False\n",
      "\n",
      "False\n"
     ]
    },
    {
     "data": {
      "text/plain": [
       "[5, 16, 23]"
      ]
     },
     "execution_count": 17,
     "metadata": {},
     "output_type": "execute_result"
    }
   ],
   "source": [
    "def is_blank(element):\n",
    "    return element == ''\n",
    "\n",
    "def is_caps(element):\n",
    "    return not is_blank(element) and element == element.upper()\n",
    "\n",
    "def find_scene_starts(screenplay):\n",
    "    ### BEGIN SOLUTION\n",
    "    return find_scene_starts__v0(screenplay)\n",
    "\n",
    "# Helper function\n",
    "def is_scene_start(element):\n",
    "    return is_caps(element) and element[:4] in ['INT.', 'EXT.']\n",
    "\n",
    "# Method 0: Basic loop, the way you'd write it in many other languages\n",
    "def find_scene_starts__v0(sc):\n",
    "    starts = []\n",
    "    for index,element in enumerate(sc):\n",
    "        print(element)\n",
    "        print(is_scene_start(element))\n",
    "        if is_scene_start(element):\n",
    "            starts.append(index)\n",
    "    return starts\n",
    "\n",
    "demo_screenplay = [\n",
    "    'Han draws his laser pistol and pops off a couple of shots',\n",
    "    'which force the stormtroopers to dive for safety. The',\n",
    "    'pirateship engines whine as Han hits the release button that',\n",
    "    'slams the overhead entry shut.',\n",
    "    '',\n",
    "    'INT. MILLENNIUM FALCON',\n",
    "    '',\n",
    "    'HAN',\n",
    "    'Chewie, get us out of here!',\n",
    "    '',\n",
    "    'The group straps in for take off.',\n",
    "    '',\n",
    "    'THREEPIO',\n",
    "    \"Oh, my. I'd forgotten how much I\",\n",
    "    'hate space travel.',\n",
    "    '',\n",
    "    'EXT. TATOOINE - MOS EISLEY - STREETS',\n",
    "    '',\n",
    "    'The half-dozen stormtroopers at a check point hear the general',\n",
    "    'alarm and look to the sky as the huge starship rises above',\n",
    "    'the dingy slum dwellings and quickly disappears into the',\n",
    "    'morning sky.',\n",
    "    '',\n",
    "    'INT. MILLENNIUM FALCON - COCKPIT',\n",
    "    '',\n",
    "    \"Han climbs into the pilot's chair next to Chewbacca, who\",\n",
    "    'chatters away as he points to something on the radar scope.',\n",
    "    ''\n",
    "]\n",
    "find_scene_starts(demo_screenplay)"
   ]
  },
  {
   "cell_type": "code",
   "execution_count": 22,
   "metadata": {},
   "outputs": [
    {
     "name": "stdout",
     "output_type": "stream",
     "text": [
      "[38, 6, 24]\n",
      "[38, 6]\n",
      "[38, 6]\n",
      "[]\n",
      "[24]\n",
      "[] 115\n"
     ]
    }
   ],
   "source": [
    "def diffs(starts, num_elems=None):\n",
    "    assert (num_elems is None) or (not starts) or (num_elems >= max(starts))\n",
    "    ### BEGIN SOLUTION\n",
    "    return diffs__v1(starts, num_elems)\n",
    "    \n",
    "# == Method 0: Basic loop (the style of other languages) ==\n",
    "def diffs__v0(starts, num_elems=None):\n",
    "    res=[]\n",
    "    for i in range(len(starts)-1):\n",
    "        res.append(starts[i+1]-starts[i])\n",
    "    if num_elems and starts:\n",
    "        res.append(num_elems-starts[-1])\n",
    "    return res\n",
    "# == Method 1: A little tighter (more \"Pythonic\") ==\n",
    "def zip_consecutive_pairs(x):\n",
    "    \"\"\"Given `x`, generates `(x[i], x[i+1])` pairs.\"\"\"\n",
    "    return zip(x[:-1], x[1:])\n",
    "\n",
    "def calc_deltas(x):\n",
    "    \"\"\"Given `x`, returns `x[i+1] - x[i]` differences (\"deltas\").\"\"\"\n",
    "    return [b - a for a, b in zip_consecutive_pairs(x)]\n",
    "\n",
    "def diffs__v1(starts, num_elems=None):\n",
    "    deltas = calc_deltas(starts)\n",
    "    if starts and num_elems is not None:\n",
    "        deltas.append(num_elems - starts[-1])\n",
    "    return deltas\n",
    "print(diffs([47, 85, 91], 115))  # answer: [38, 6, 24]\n",
    "print(diffs([47, 85, 91]))       # answer: [38, 6]\n",
    "print(diffs([47, 85, 91], None)) # answer: [38, 6]\n",
    "print(diffs([]))                 # answer: []\n",
    "print(diffs([91], 115))          # answer: [24]\n",
    "print(diffs([]), 115)  "
   ]
  },
  {
   "cell_type": "code",
   "execution_count": 19,
   "metadata": {},
   "outputs": [
    {
     "name": "stdout",
     "output_type": "stream",
     "text": [
      "True\n"
     ]
    }
   ],
   "source": [
    "if [1]:\n",
    "    print(True)"
   ]
  },
  {
   "cell_type": "code",
   "execution_count": 16,
   "metadata": {},
   "outputs": [
    {
     "data": {
      "text/plain": [
       "[{'setting': 'INT. MILLENNIUM FALCON',\n",
       "  'elements': ['HAN',\n",
       "   'Chewie, get us out of here!',\n",
       "   '',\n",
       "   'The group straps in for take off.',\n",
       "   '',\n",
       "   'THREEPIO',\n",
       "   \"Oh, my. I'd forgotten how much I\",\n",
       "   'hate space travel.']},\n",
       " {'setting': 'EXT. TATOOINE - MOS EISLEY - STREETS',\n",
       "  'elements': ['The half-dozen stormtroopers at a check point hear the general',\n",
       "   'alarm and look to the sky as the huge starship rises above',\n",
       "   'the dingy slum dwellings and quickly disappears into the',\n",
       "   'morning sky.']},\n",
       " {'setting': 'INT. MILLENNIUM FALCON - COCKPIT',\n",
       "  'elements': [\"Han climbs into the pilot's chair next to Chewbacca, who\",\n",
       "   'chatters away as he points to something on the radar scope.']}]"
      ]
     },
     "execution_count": 16,
     "metadata": {},
     "output_type": "execute_result"
    }
   ],
   "source": [
    "def group_elements_by_scene__v0(screenplay, starts, lengths):\n",
    "    scenes = []\n",
    "    for i in range(len(starts)): # i == scene number or index \n",
    "        # `k` iterates over elements of the scene\n",
    "        k_start = starts[i]\n",
    "        k_stop = k_start + lengths[i]\n",
    "        \n",
    "        # Build the setting\n",
    "        setting = ''\n",
    "        while k_start < k_stop and is_caps(screenplay[k_start]):\n",
    "            setting += (' ' if setting else '') + screenplay[k_start]\n",
    "            k_start += 1\n",
    "            \n",
    "        # Build the body\n",
    "        while k_start < k_stop and is_blank(screenplay[k_start]): # skip leading blanks\n",
    "            k_start += 1\n",
    "        while k_stop > k_start and is_blank(screenplay[k_stop-1]): # remove trailing blanks\n",
    "            k_stop -= 1\n",
    "        body = screenplay[k_start:k_stop]\n",
    "        scenes.append({'setting': setting, 'elements': body})\n",
    "    return scenes\n",
    "\n",
    "group_elements_by_scene__v0(demo_screenplay, [5, 16, 23], [11, 7, 5])"
   ]
  },
  {
   "cell_type": "code",
   "execution_count": 29,
   "metadata": {},
   "outputs": [],
   "source": [
    "input1=[{'setting': 'INT. MILLENNIUM FALCON - GUNPORTS',\n",
    " 'elements': ['Another TIE fighter moves in on the pirateship and Luke,',\n",
    "              'smiling, fires the laser cannon at it, scoring a spectacular',\n",
    "              'direct hit.',\n",
    "              '',\n",
    "              'LUKE',\n",
    "              'Got him! I got him!',\n",
    "              '',\n",
    "              'Han turns and gives Luke a victory wave which Luke gleefully',\n",
    "              'returns.',\n",
    "              '',\n",
    "              'HAN',\n",
    "              \"Great kid! Don't get cocky.\",\n",
    "              '',\n",
    "              'Han turns back to his laser cannon.']}]"
   ]
  },
  {
   "cell_type": "code",
   "execution_count": 32,
   "metadata": {},
   "outputs": [
    {
     "name": "stdout",
     "output_type": "stream",
     "text": [
      "0\n",
      "1\n",
      "2\n",
      "3\n",
      "4\n",
      "5\n",
      "6\n",
      "7\n",
      "8\n",
      "9\n",
      "10\n",
      "11\n",
      "12\n",
      "13\n"
     ]
    }
   ],
   "source": [
    "def is_name(e):\n",
    "    return not is_blank(e) and is_caps(e)\n",
    "\n",
    "res=[]\n",
    "for element in input1:\n",
    "    out={'speaker': None, 'text': None}\n",
    "    begin_element=element[\"elements\"][0]\n",
    "    if(is_name(begin_element)):\n",
    "        out['speaker']=begin_element\n",
    "    for i in range(len(element[\"elements\"])):\n",
    "        print(i)\n",
    "        # print(not is_blank(e) and is_caps(e))"
   ]
  },
  {
   "cell_type": "code",
   "execution_count": null,
   "metadata": {},
   "outputs": [],
   "source": []
  }
 ],
 "metadata": {
  "kernelspec": {
   "display_name": "Python 3.10.5 64-bit",
   "language": "python",
   "name": "python3"
  },
  "language_info": {
   "codemirror_mode": {
    "name": "ipython",
    "version": 3
   },
   "file_extension": ".py",
   "mimetype": "text/x-python",
   "name": "python",
   "nbconvert_exporter": "python",
   "pygments_lexer": "ipython3",
   "version": "3.10.5"
  },
  "orig_nbformat": 2,
  "vscode": {
   "interpreter": {
    "hash": "09f4728b05d69e74b0ea9aff0073f9d58b230df2a643ed862911c4fa3d476aa5"
   }
  }
 },
 "nbformat": 4,
 "nbformat_minor": 2
}
